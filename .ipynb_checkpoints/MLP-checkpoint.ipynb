{
 "cells": [
  {
   "cell_type": "code",
   "execution_count": 1,
   "metadata": {},
   "outputs": [],
   "source": [
    "import numpy as np\n",
    "#import pandas as pd\n",
    "import matplotlib.pyplot as plt"
   ]
  },
  {
   "cell_type": "code",
   "execution_count": 2,
   "metadata": {},
   "outputs": [],
   "source": [
    "def sigmoid_derivative(x):\n",
    "    return(sigmoid(x)*(1-sigmoid(x)))"
   ]
  },
  {
   "cell_type": "code",
   "execution_count": 3,
   "metadata": {},
   "outputs": [],
   "source": [
    "def sigmoid(x):\n",
    "    return(1/(1 + np.exp(-x)))"
   ]
  },
  {
   "cell_type": "code",
   "execution_count": 171,
   "metadata": {},
   "outputs": [],
   "source": [
    "class MLP:\n",
    "    def __init__(self, input_layer_len, output_layer_len, hidden_layers_len, activation_function):\n",
    "        \n",
    "        self.activation_function = activation_function\n",
    "        self.input_layer = np.zeros((1,input_layer_len))\n",
    "        self.output_layer = np.zeros((1,output_layer_len))\n",
    "        self.weights=[]\n",
    "        \n",
    "        self.weights.append(np.random.random((hidden_layers_len[0],input_layer_len))*2-1)\n",
    "        \n",
    "        for i in range(1,len(hidden_layers_len)):\n",
    "            self.weights.append(np.random.random((hidden_layers_len[i],hidden_layers_len[i-1]))*2-1)\n",
    "            \n",
    "        self.weights.append(np.random.random((output_layer_len,hidden_layers_len[-1]))*2-1)\n",
    "        \n",
    "        self.biases=[]\n",
    "        \n",
    "        for i in range(len(hidden_layers_len)):\n",
    "            self.biases.append(np.zeros((hidden_layers_len[i],1)))\n",
    "            \n",
    "        \n",
    "        self.biases.append(np.zeros((output_layer_len,1)))\n",
    "        \n",
    "        self.hidden_layers=[]\n",
    "        \n",
    "        for i in range(len(hidden_layers_len)):\n",
    "            self.hidden_layers.append(np.zeros((hidden_layers_len[i],1)))\n",
    "        \n",
    "    \n",
    "        \n",
    "    def calculate(self,input_layer,memory=False):\n",
    "        self.input_layer=input_layer.copy()\n",
    "        \n",
    "        input_layer=input_layer.T\n",
    "        \n",
    "        if(memory):\n",
    "            for i in range(len(self.weights)-1):\n",
    "                \n",
    "                self.hidden_layers[i]=self.weights[i].dot(input_layer)+self.biases[i]\n",
    "                input_layer=self.activation_function(self.hidden_layers[i])\n",
    "                \n",
    "        else:    \n",
    "            for i in range(len(self.weights)-1):\n",
    "                input_layer=self.activation_function(self.weights[i].dot(input_layer)+self.biases[i])\n",
    "                \n",
    "        \n",
    "        #mozliwe ze trzeba reshapy\n",
    "        output_layer=(self.weights[-1].dot(input_layer)+self.biases[-1])\n",
    "        #print(output_layer.shape)\n",
    "        self.output_layer=output_layer.T.copy()\n",
    "        \n",
    "        \n",
    "        return(output_layer.T)\n",
    "        \n",
    "    def train(self,train_input_layer,true_output_layer,rate=0.05,beta=0.8,batch=0.2,stop=10**-6,RMSprop=False,eps=10**-8):\n",
    "        lin=np.linspace(0,train_input_layer.shape[0],int(train_input_layer.shape[0]*batch)).round().astype(int)\n",
    "        output_layer=self.calculate(train_input_layer)\n",
    "        error=sum((true_output_layer-output_layer)**2)\n",
    "        print(error)\n",
    "        iteration=0\n",
    "        old_gradient=[[0]*(len(lin)-1) for x in range(len(self.weights))]\n",
    "        old_gradient_bias=[[0]*(len(lin)-1) for x in range(len(self.weights))]\n",
    "        error_list=[error]\n",
    "\n",
    "        for xd in range(3*10**3):\n",
    "            iteration+=1\n",
    "\n",
    "            for b in range(len(lin)-1):\n",
    "\n",
    "                input_layer=train_input_layer[lin[b]:lin[b+1]]\n",
    "                output_layer=self.calculate(input_layer,memory=True)\n",
    "                batch_size=output_layer.shape[0]\n",
    "                errors=[[0]*len(self.weights) for x in range(batch_size)]\n",
    "\n",
    "                for x in range(batch_size):\n",
    "                    #derivative of x is 1\n",
    "                    errors[x][-1]=((output_layer[x]-true_output_layer[lin[b]:lin[b+1]][x])).reshape(-1,1)\n",
    "\n",
    "                    for i in range(len(self.weights)-2,-1,-1): \n",
    "                        errors[x][i]=self.weights[i+1].T.dot(errors[x][i+1])*sigmoid_derivative(self.hidden_layers[i][:,x:x+1])\n",
    "\n",
    "                for l in range(1,len(self.weights)):\n",
    "\n",
    "                    if(RMSprop):\n",
    "                        new_gradient=sum([errors[x][l].dot(self.activation_function(self.hidden_layers[l-1][:,x:x+1]).T) for x in range(batch_size)])/batch_size\n",
    "                        old_gradient[l][b]=beta*old_gradient[l][b]+(1-beta)*new_gradient**2\n",
    "                        self.weights[l]=self.weights[l]-new_gradient*(rate/(np.sqrt(old_gradient[l][b])+eps))\n",
    "\n",
    "                        new_gradient_bias=sum([errors[x][l] for x in range(batch_size)])/batch_size\n",
    "                        old_gradient_bias[l][b]=beta*old_gradient_bias[l][b]+(1-beta)*new_gradient_bias**2\n",
    "                        self.biases[l]=self.biases[l]-new_gradient_bias*(rate/(np.sqrt(old_gradient_bias[l][b])+eps))\n",
    "                    else:\n",
    "                        new_gradient=sum([errors[x][l].dot(self.activation_function(self.hidden_layers[l-1][:,x:x+1]).T) for x in range(batch_size)])/batch_size\n",
    "                        new_gradient=beta*old_gradient[l][b]+(1-beta)*new_gradient\n",
    "                        old_gradient[l][b]=new_gradient\n",
    "                        self.weights[l]=self.weights[l]-new_gradient*rate\n",
    "\n",
    "                        new_gradient_bias=sum([errors[x][l] for x in range(batch_size)])/batch_size\n",
    "                        new_gradient_bias=beta*old_gradient_bias[l][b]+(1-beta)*new_gradient_bias\n",
    "                        old_gradient_bias[l][b]=new_gradient_bias\n",
    "                        self.biases[l]=self.biases[l]-new_gradient_bias*rate\n",
    "\n",
    "                if(RMSprop):\n",
    "                    new_gradient=sum([errors[x][0].dot((self.input_layer.T[:,x:x+1]).T) for x in range(batch_size)])/batch_size\n",
    "                    old_gradient[0][b]=beta*old_gradient[0][b]+(1-beta)*new_gradient**2\n",
    "                    self.weights[0]=self.weights[0]-new_gradient*(rate/(np.sqrt(old_gradient[0][b])+eps))\n",
    "\n",
    "                    new_gradient_bias=sum([errors[x][0] for x in range(batch_size)])/batch_size\n",
    "                    old_gradient_bias[0][b]=beta*old_gradient_bias[l][b]+(1-beta)*new_gradient_bias**2\n",
    "                    self.biases[0]=self.biases[0]-new_gradient_bias*(rate/(np.sqrt(old_gradient_bias[0][b])+eps))\n",
    "                else:\n",
    "                    new_gradient=sum([errors[x][0].dot((self.input_layer.T[:,x:x+1]).T) for x in range(batch_size)])/batch_size\n",
    "                    new_gradient=beta*old_gradient[0][b]+(1-beta)*new_gradient\n",
    "                    old_gradient[0][b]=new_gradient\n",
    "                    self.weights[0]=self.weights[0]-new_gradient*rate\n",
    "\n",
    "                    new_gradient_bias=sum([errors[x][0] for x in range(batch_size)])/batch_size\n",
    "                    new_gradient_bias=beta*old_gradient_bias[0][b]+(1-beta)*new_gradient_bias\n",
    "                    old_gradient_bias[0][b]=new_gradient_bias\n",
    "                    self.biases[0]=self.biases[0]-new_gradient_bias*rate\n",
    "\n",
    "\n",
    "            output_layer=self.calculate(train_input_layer)\n",
    "            new_error=sum((true_output_layer-output_layer)**2)\n",
    "            error_list.append(new_error)\n",
    "\n",
    "            if(iteration % 1000 == 0):\n",
    "                print(iteration)\n",
    "\n",
    "            if (abs(new_error-error)/error)<stop:\n",
    "                print((new_error-error)/error)\n",
    "                print(iteration)\n",
    "                break\n",
    "\n",
    "            error=new_error\n",
    "        \n",
    "        return error_list"
   ]
  },
  {
   "cell_type": "code",
   "execution_count": 1,
   "metadata": {},
   "outputs": [],
   "source": [
    "def Xavier(a,b):\n",
    "    pass"
   ]
  },
  {
   "cell_type": "code",
   "execution_count": 7,
   "metadata": {},
   "outputs": [],
   "source": [
    "def linear(X, W):\n",
    "    return np.c_[np.ones(X.shape[0]), X] @ W"
   ]
  },
  {
   "cell_type": "code",
   "execution_count": 116,
   "metadata": {},
   "outputs": [],
   "source": [
    "class MLP:\n",
    "    def __init__(self, inout, af, daf):\n",
    "        \n",
    "        self.af = af\n",
    "        self.daf = daf\n",
    "        \n",
    "        self.W = [np.random.randn(inout[i]+1, inout[i+1]) for i in range(len(inout)-1)]\n",
    "        \n",
    "    def forward(self, X):\n",
    "        z=[]\n",
    "        \n",
    "        for w in self.W:\n",
    "            z+=[X]\n",
    "            X = self.af(linear(X, w))\n",
    "        \n",
    "        return X,z\n",
    "    \n",
    "    def train(self,train_input_layer,true_output_layer,rate=0.05,beta=0.8,batch=0.2,stop=10**-6,RMSprop=False,eps=eps=10**-8):\n",
    "        \n",
    "        #feedforward\n",
    "        z=self.forward(X)\n",
    "        \n",
    "        #output error identity function\n",
    "        errors=[[0]*X.shape[0] for i in range(len(self.W)-1,-1,-1)]\n",
    "        errors[-1]=(Y-z[0])*daf(linear(z[-1],self.W[-1]))\n",
    "        for i in range(len(self.W)-2,-1,-1):\n",
    "            self.W[i+1].T+\n",
    "            \n",
    "        \n",
    "        #gradient descent\n",
    "        for i in range(len(self.weights)-1,-1,-1):\n",
    "            self.weights[i]=self.weights[i]-rate\n",
    "        "
   ]
  },
  {
   "cell_type": "code",
   "execution_count": 18,
   "metadata": {},
   "outputs": [],
   "source": [
    "test = np.loadtxt(\"mio1/regression/square-simple-training.csv\", delimiter=',', skiprows=1, usecols=range(1,3))"
   ]
  },
  {
   "cell_type": "code",
   "execution_count": 19,
   "metadata": {},
   "outputs": [],
   "source": [
    "X=test[:,0].reshape(-1,1)"
   ]
  },
  {
   "cell_type": "code",
   "execution_count": 20,
   "metadata": {},
   "outputs": [],
   "source": [
    "Y=test[:,1].reshape(-1,1)"
   ]
  },
  {
   "cell_type": "code",
   "execution_count": 58,
   "metadata": {},
   "outputs": [],
   "source": [
    "X=np.concatenate((X,3*X-2),axis=1)"
   ]
  },
  {
   "cell_type": "code",
   "execution_count": 59,
   "metadata": {},
   "outputs": [],
   "source": [
    "Y=np.concatenate((Y,2*Y+1),axis=1)"
   ]
  },
  {
   "cell_type": "code",
   "execution_count": 128,
   "metadata": {},
   "outputs": [],
   "source": [
    "mlp=MLP(1,1,[15,17,19],sigmoid)\n",
    "\n",
    "train_input_layer=(X-X.mean())/X.std()\n",
    "\n",
    "true_output_layer=(Y-Y.mean())/Y.std()\n",
    "\n",
    "rate=0.08\n",
    "\n",
    "beta=0.8\n",
    "\n",
    "batch=0.2\n",
    "\n",
    "stop=10**-6\n",
    "\n",
    "RMSprop=True\n",
    "\n",
    "eps=10**-8"
   ]
  },
  {
   "cell_type": "code",
   "execution_count": 129,
   "metadata": {},
   "outputs": [
    {
     "name": "stdout",
     "output_type": "stream",
     "text": [
      "1000\n",
      "2000\n",
      "3000\n"
     ]
    },
    {
     "data": {
      "text/plain": [
       "[array([885.25208707]),\n",
       " array([113.00522216]),\n",
       " array([128.58682851]),\n",
       " array([99.18140217]),\n",
       " array([91.03552174]),\n",
       " array([96.96549438]),\n",
       " array([86.9867021]),\n",
       " array([82.58738772]),\n",
       " array([81.12737214]),\n",
       " array([79.52688795]),\n",
       " array([78.1516549]),\n",
       " array([76.65206554]),\n",
       " array([75.19420219]),\n",
       " array([73.88644749]),\n",
       " array([72.64257791]),\n",
       " array([71.44032708]),\n",
       " array([70.28522423]),\n",
       " array([69.16750269]),\n",
       " array([68.06064598]),\n",
       " array([66.93774211]),\n",
       " array([65.78837588]),\n",
       " array([64.61535394]),\n",
       " array([63.42380622]),\n",
       " array([62.21706352]),\n",
       " array([60.99826432]),\n",
       " array([59.77167863]),\n",
       " array([58.54163301]),\n",
       " array([57.31093488]),\n",
       " array([56.0806376]),\n",
       " array([54.85098022]),\n",
       " array([53.62239108]),\n",
       " array([52.39588565]),\n",
       " array([51.1729055]),\n",
       " array([49.95493553]),\n",
       " array([48.74315694]),\n",
       " array([47.53824566]),\n",
       " array([46.34034941]),\n",
       " array([45.14924011]),\n",
       " array([43.9645944]),\n",
       " array([42.78630854]),\n",
       " array([41.61474299]),\n",
       " array([40.45082838]),\n",
       " array([39.29602669]),\n",
       " array([38.15219214]),\n",
       " array([37.02139416]),\n",
       " array([35.90575226]),\n",
       " array([34.80730719]),\n",
       " array([33.72793165]),\n",
       " array([32.66927462]),\n",
       " array([31.63273475]),\n",
       " array([30.61946188]),\n",
       " array([29.63038625]),\n",
       " array([28.66627038]),\n",
       " array([27.72777136]),\n",
       " array([26.81549803]),\n",
       " array([25.93004883]),\n",
       " array([25.07202345]),\n",
       " array([24.24200995]),\n",
       " array([23.44055538]),\n",
       " array([22.66813017]),\n",
       " array([21.92509563]),\n",
       " array([21.21168009]),\n",
       " array([20.5279661]),\n",
       " array([19.87388797]),\n",
       " array([19.24923697]),\n",
       " array([18.65367058]),\n",
       " array([18.08672223]),\n",
       " array([17.54780873]),\n",
       " array([17.03623448]),\n",
       " array([16.55119314]),\n",
       " array([16.09176861]),\n",
       " array([15.65693785]),\n",
       " array([15.24557738]),\n",
       " array([14.85647451]),\n",
       " array([14.48834322]),\n",
       " array([14.13984369]),\n",
       " array([13.80960404]),\n",
       " array([13.49624266]),\n",
       " array([13.19838974]),\n",
       " array([12.91470697]),\n",
       " array([12.64390491]),\n",
       " array([12.38475765]),\n",
       " array([12.13611479]),\n",
       " array([11.89691067]),\n",
       " array([11.66617095]),\n",
       " array([11.44301649]),\n",
       " array([11.22666459]),\n",
       " array([11.01642781]),\n",
       " array([10.81171044]),\n",
       " array([10.61200315]),\n",
       " array([10.41687606]),\n",
       " array([10.2259708]),\n",
       " array([10.03899203]),\n",
       " array([9.85569874]),\n",
       " array([9.67589575]),\n",
       " array([9.49942572]),\n",
       " array([9.3261618]),\n",
       " array([9.15600109]),\n",
       " array([8.98885899]),\n",
       " array([8.82466445]),\n",
       " array([8.66335609]),\n",
       " array([8.50487917]),\n",
       " array([8.34918329]),\n",
       " array([8.19622079]),\n",
       " array([8.04594559]),\n",
       " array([7.8983126]),\n",
       " array([7.75327732]),\n",
       " array([7.6107958]),\n",
       " array([7.47082468]),\n",
       " array([7.33332133]),\n",
       " array([7.19824405]),\n",
       " array([7.06555223]),\n",
       " array([6.93520655]),\n",
       " array([6.8071691]),\n",
       " array([6.68140343]),\n",
       " array([6.55787461]),\n",
       " array([6.43654921]),\n",
       " array([6.31739526]),\n",
       " array([6.20038216]),\n",
       " array([6.08548059]),\n",
       " array([5.97266243]),\n",
       " array([5.86190056]),\n",
       " array([5.75316883]),\n",
       " array([5.64644187]),\n",
       " array([5.54169502]),\n",
       " array([5.43890416]),\n",
       " array([5.33804566]),\n",
       " array([5.23909625]),\n",
       " array([5.14203291]),\n",
       " array([5.04683283]),\n",
       " array([4.95347326]),\n",
       " array([4.8619315]),\n",
       " array([4.77218479]),\n",
       " array([4.68421028]),\n",
       " array([4.59798493]),\n",
       " array([4.51348554]),\n",
       " array([4.43068865]),\n",
       " array([4.34957054]),\n",
       " array([4.2701072]),\n",
       " array([4.19227434]),\n",
       " array([4.11604737]),\n",
       " array([4.0414014]),\n",
       " array([3.96831127]),\n",
       " array([3.89675154]),\n",
       " array([3.82669652]),\n",
       " array([3.75812032]),\n",
       " array([3.69099684]),\n",
       " array([3.62529982]),\n",
       " array([3.56100288]),\n",
       " array([3.49807953]),\n",
       " array([3.43650325]),\n",
       " array([3.37624749]),\n",
       " array([3.3172857]),\n",
       " array([3.25959141]),\n",
       " array([3.20313824]),\n",
       " array([3.1478999]),\n",
       " array([3.09385031]),\n",
       " array([3.04096355]),\n",
       " array([2.98921392]),\n",
       " array([2.938576]),\n",
       " array([2.88902463]),\n",
       " array([2.84053494]),\n",
       " array([2.79308242]),\n",
       " array([2.74664289]),\n",
       " array([2.70119254]),\n",
       " array([2.65670794]),\n",
       " array([2.61316606]),\n",
       " array([2.5705443]),\n",
       " array([2.52882046]),\n",
       " array([2.48797278]),\n",
       " array([2.44797994]),\n",
       " array([2.40882107]),\n",
       " array([2.37047573]),\n",
       " array([2.33292396]),\n",
       " array([2.29614624]),\n",
       " array([2.26012349]),\n",
       " array([2.22483711]),\n",
       " array([2.19026892]),\n",
       " array([2.15640121]),\n",
       " array([2.12321672]),\n",
       " array([2.09069859]),\n",
       " array([2.05883044]),\n",
       " array([2.02759628]),\n",
       " array([1.99698056]),\n",
       " array([1.96696814]),\n",
       " array([1.93754429]),\n",
       " array([1.90869468]),\n",
       " array([1.88040534]),\n",
       " array([1.85266274]),\n",
       " array([1.82545366]),\n",
       " array([1.79876529]),\n",
       " array([1.77258516]),\n",
       " array([1.74690113]),\n",
       " array([1.72170143]),\n",
       " array([1.6969746]),\n",
       " array([1.6727095]),\n",
       " array([1.6488953]),\n",
       " array([1.62552148]),\n",
       " array([1.6025778]),\n",
       " array([1.58005433]),\n",
       " array([1.55794138]),\n",
       " array([1.53622957]),\n",
       " array([1.51490974]),\n",
       " array([1.49397301]),\n",
       " array([1.47341073]),\n",
       " array([1.4532145]),\n",
       " array([1.43337614]),\n",
       " array([1.41388769]),\n",
       " array([1.39474142]),\n",
       " array([1.3759298]),\n",
       " array([1.3574455]),\n",
       " array([1.33928139]),\n",
       " array([1.32143053]),\n",
       " array([1.30388616]),\n",
       " array([1.28664171]),\n",
       " array([1.26969078]),\n",
       " array([1.25302712]),\n",
       " array([1.23664466]),\n",
       " array([1.2205375]),\n",
       " array([1.20469985]),\n",
       " array([1.18912611]),\n",
       " array([1.17381081]),\n",
       " array([1.15874861]),\n",
       " array([1.14393431]),\n",
       " array([1.12936285]),\n",
       " array([1.11502928]),\n",
       " array([1.10092879]),\n",
       " array([1.08705668]),\n",
       " array([1.07340837]),\n",
       " array([1.05997938]),\n",
       " array([1.04676536]),\n",
       " array([1.03376205]),\n",
       " array([1.0209653]),\n",
       " array([1.00837105]),\n",
       " array([0.99597535]),\n",
       " array([0.98377434]),\n",
       " array([0.97176425]),\n",
       " array([0.95994139]),\n",
       " array([0.94830218]),\n",
       " array([0.93684309]),\n",
       " array([0.92556071]),\n",
       " array([0.91445168]),\n",
       " array([0.90351273]),\n",
       " array([0.89274066]),\n",
       " array([0.88213235]),\n",
       " array([0.87168475]),\n",
       " array([0.86139486]),\n",
       " array([0.85125977]),\n",
       " array([0.84127663]),\n",
       " array([0.83144265]),\n",
       " array([0.82175511]),\n",
       " array([0.81221133]),\n",
       " array([0.80280872]),\n",
       " array([0.79354471]),\n",
       " array([0.78441682]),\n",
       " array([0.77542261]),\n",
       " array([0.76655969]),\n",
       " array([0.75782572]),\n",
       " array([0.74921841]),\n",
       " array([0.74073554]),\n",
       " array([0.73237491]),\n",
       " array([0.72413438]),\n",
       " array([0.71601185]),\n",
       " array([0.70800527]),\n",
       " array([0.70011263]),\n",
       " array([0.69233197]),\n",
       " array([0.68466134]),\n",
       " array([0.67709888]),\n",
       " array([0.66964272]),\n",
       " array([0.66229106]),\n",
       " array([0.65504213]),\n",
       " array([0.64789419]),\n",
       " array([0.64084554]),\n",
       " array([0.63389452]),\n",
       " array([0.62703948]),\n",
       " array([0.62027883]),\n",
       " array([0.613611]),\n",
       " array([0.60703446]),\n",
       " array([0.60054769]),\n",
       " array([0.59414923]),\n",
       " array([0.58783762]),\n",
       " array([0.58161144]),\n",
       " array([0.57546932]),\n",
       " array([0.56940987]),\n",
       " array([0.56343177]),\n",
       " array([0.5575337]),\n",
       " array([0.55171438]),\n",
       " array([0.54597254]),\n",
       " array([0.54030696]),\n",
       " array([0.53471641]),\n",
       " array([0.52919971]),\n",
       " array([0.52375569]),\n",
       " array([0.5183832]),\n",
       " array([0.51308113]),\n",
       " array([0.50784836]),\n",
       " array([0.50268382]),\n",
       " array([0.49758645]),\n",
       " array([0.4925552]),\n",
       " array([0.48758905]),\n",
       " array([0.48268699]),\n",
       " array([0.47784805]),\n",
       " array([0.47307126]),\n",
       " array([0.46835566]),\n",
       " array([0.46370033]),\n",
       " array([0.45910435]),\n",
       " array([0.45456682]),\n",
       " array([0.45008685]),\n",
       " array([0.44566359]),\n",
       " array([0.44129619]),\n",
       " array([0.4369838]),\n",
       " array([0.4327256]),\n",
       " array([0.4285208]),\n",
       " array([0.42436859]),\n",
       " array([0.42026821]),\n",
       " array([0.41621888]),\n",
       " array([0.41221986]),\n",
       " array([0.40827041]),\n",
       " array([0.4043698]),\n",
       " array([0.40051732]),\n",
       " array([0.39671228]),\n",
       " array([0.39295398]),\n",
       " array([0.38924175]),\n",
       " array([0.38557493]),\n",
       " array([0.38195286]),\n",
       " array([0.3783749]),\n",
       " array([0.37484041]),\n",
       " array([0.37134879]),\n",
       " array([0.36789942]),\n",
       " array([0.3644917]),\n",
       " array([0.36112504]),\n",
       " array([0.35779887]),\n",
       " array([0.3545126]),\n",
       " array([0.35126569]),\n",
       " array([0.34805759]),\n",
       " array([0.34488774]),\n",
       " array([0.34175562]),\n",
       " array([0.3386607]),\n",
       " array([0.33560246]),\n",
       " array([0.33258041]),\n",
       " array([0.32959404]),\n",
       " array([0.32664287]),\n",
       " array([0.3237264]),\n",
       " array([0.32084416]),\n",
       " array([0.31799569]),\n",
       " array([0.31518052]),\n",
       " array([0.31239821]),\n",
       " array([0.30964831]),\n",
       " array([0.30693038]),\n",
       " array([0.30424398]),\n",
       " array([0.30158871]),\n",
       " array([0.29896413]),\n",
       " array([0.29636983]),\n",
       " array([0.29380542]),\n",
       " array([0.29127049]),\n",
       " array([0.28876466]),\n",
       " array([0.28628753]),\n",
       " array([0.28383872]),\n",
       " array([0.28141787]),\n",
       " array([0.2790246]),\n",
       " array([0.27665855]),\n",
       " array([0.27431937]),\n",
       " array([0.27200669]),\n",
       " array([0.26972019]),\n",
       " array([0.26745951]),\n",
       " array([0.26522431]),\n",
       " array([0.26301428]),\n",
       " array([0.26082908]),\n",
       " array([0.2586684]),\n",
       " array([0.25653191]),\n",
       " array([0.2544193]),\n",
       " array([0.25233028]),\n",
       " array([0.25026453]),\n",
       " array([0.24822176]),\n",
       " array([0.24620168]),\n",
       " array([0.24420399]),\n",
       " array([0.24222842]),\n",
       " array([0.24027469]),\n",
       " array([0.23834251]),\n",
       " array([0.23643161]),\n",
       " array([0.23454173]),\n",
       " array([0.23267261]),\n",
       " array([0.23082397]),\n",
       " array([0.22899558]),\n",
       " array([0.22718716]),\n",
       " array([0.22539848]),\n",
       " array([0.22362929]),\n",
       " array([0.22187934]),\n",
       " array([0.22014841]),\n",
       " array([0.21843624]),\n",
       " array([0.21674261]),\n",
       " array([0.2150673]),\n",
       " array([0.21341007]),\n",
       " array([0.21177071]),\n",
       " array([0.21014899]),\n",
       " array([0.20854471]),\n",
       " array([0.20695764]),\n",
       " array([0.20538757]),\n",
       " array([0.20383431]),\n",
       " array([0.20229764]),\n",
       " array([0.20077737]),\n",
       " array([0.19927329]),\n",
       " array([0.19778521]),\n",
       " array([0.19631295]),\n",
       " array([0.1948563]),\n",
       " array([0.19341507]),\n",
       " array([0.1919891]),\n",
       " array([0.19057818]),\n",
       " array([0.18918215]),\n",
       " array([0.18780083]),\n",
       " array([0.18643403]),\n",
       " array([0.18508159]),\n",
       " array([0.18374333]),\n",
       " array([0.1824191]),\n",
       " array([0.18110871]),\n",
       " array([0.17981202]),\n",
       " array([0.17852885]),\n",
       " array([0.17725905]),\n",
       " array([0.17600246]),\n",
       " array([0.17475893]),\n",
       " array([0.1735283]),\n",
       " array([0.17231042]),\n",
       " array([0.17110514]),\n",
       " array([0.16991232]),\n",
       " array([0.16873182]),\n",
       " array([0.16756347]),\n",
       " array([0.16640716]),\n",
       " array([0.16526274]),\n",
       " array([0.16413006]),\n",
       " array([0.163009]),\n",
       " array([0.16189942]),\n",
       " array([0.16080118]),\n",
       " array([0.15971417]),\n",
       " array([0.15863824]),\n",
       " array([0.15757328]),\n",
       " array([0.15651915]),\n",
       " array([0.15547574]),\n",
       " array([0.15444291]),\n",
       " array([0.15342055]),\n",
       " array([0.15240855]),\n",
       " array([0.15140678]),\n",
       " array([0.15041512]),\n",
       " array([0.14943347]),\n",
       " array([0.14846171]),\n",
       " array([0.14749972]),\n",
       " array([0.1465474]),\n",
       " array([0.14560464]),\n",
       " array([0.14467133]),\n",
       " array([0.14374736]),\n",
       " array([0.14283263]),\n",
       " array([0.14192704]),\n",
       " array([0.14103049]),\n",
       " array([0.14014286]),\n",
       " array([0.13926407]),\n",
       " array([0.13839402]),\n",
       " array([0.1375326]),\n",
       " array([0.13667973]),\n",
       " array([0.1358353]),\n",
       " array([0.13499922]),\n",
       " array([0.13417141]),\n",
       " array([0.13335177]),\n",
       " array([0.1325402]),\n",
       " array([0.13173663]),\n",
       " array([0.13094096]),\n",
       " array([0.1301531]),\n",
       " array([0.12937297]),\n",
       " array([0.12860049]),\n",
       " array([0.12783557]),\n",
       " array([0.12707813]),\n",
       " array([0.12632809]),\n",
       " array([0.12558536]),\n",
       " array([0.12484987]),\n",
       " array([0.12412153]),\n",
       " array([0.12340028]),\n",
       " array([0.12268603]),\n",
       " array([0.1219787]),\n",
       " array([0.12127823]),\n",
       " array([0.12058454]),\n",
       " array([0.11989755]),\n",
       " array([0.11921719]),\n",
       " array([0.11854339]),\n",
       " array([0.11787609]),\n",
       " array([0.1172152]),\n",
       " array([0.11656067]),\n",
       " array([0.11591241]),\n",
       " array([0.11527038]),\n",
       " array([0.11463449]),\n",
       " array([0.11400469]),\n",
       " array([0.1133809]),\n",
       " array([0.11276307]),\n",
       " array([0.11215113]),\n",
       " array([0.11154502]),\n",
       " array([0.11094468]),\n",
       " array([0.11035004]),\n",
       " array([0.10976104]),\n",
       " array([0.10917763]),\n",
       " array([0.10859974]),\n",
       " array([0.10802733]),\n",
       " array([0.10746032]),\n",
       " array([0.10689866]),\n",
       " array([0.1063423]),\n",
       " array([0.10579118]),\n",
       " array([0.10524524]),\n",
       " array([0.10470444]),\n",
       " array([0.10416871]),\n",
       " array([0.103638]),\n",
       " array([0.10311227]),\n",
       " array([0.10259145]),\n",
       " array([0.1020755]),\n",
       " array([0.10156437]),\n",
       " array([0.101058]),\n",
       " array([0.10055635]),\n",
       " array([0.10005937]),\n",
       " array([0.09956701]),\n",
       " array([0.09907922]),\n",
       " array([0.09859595]),\n",
       " array([0.09811716]),\n",
       " array([0.0976428]),\n",
       " array([0.09717282]),\n",
       " array([0.09670718]),\n",
       " array([0.09624584]),\n",
       " array([0.09578875]),\n",
       " array([0.09533586]),\n",
       " array([0.09488714]),\n",
       " array([0.09444254]),\n",
       " array([0.09400201]),\n",
       " array([0.09356552]),\n",
       " array([0.09313303]),\n",
       " array([0.09270448]),\n",
       " array([0.09227986]),\n",
       " array([0.0918591]),\n",
       " array([0.09144218]),\n",
       " array([0.09102905]),\n",
       " array([0.09061968]),\n",
       " array([0.09021403]),\n",
       " array([0.08981205]),\n",
       " array([0.08941372]),\n",
       " array([0.08901899]),\n",
       " array([0.08862784]),\n",
       " array([0.08824021]),\n",
       " array([0.08785608]),\n",
       " array([0.08747541]),\n",
       " array([0.08709817]),\n",
       " array([0.08672432]),\n",
       " array([0.08635383]),\n",
       " array([0.08598666]),\n",
       " array([0.08562278]),\n",
       " array([0.08526215]),\n",
       " array([0.08490476]),\n",
       " array([0.08455055]),\n",
       " array([0.0841995]),\n",
       " array([0.08385158]),\n",
       " array([0.08350676]),\n",
       " array([0.083165]),\n",
       " array([0.08282628]),\n",
       " array([0.08249056]),\n",
       " array([0.08215781]),\n",
       " array([0.08182801]),\n",
       " array([0.08150113]),\n",
       " array([0.08117713]),\n",
       " array([0.08085599]),\n",
       " array([0.08053768]),\n",
       " array([0.08022217]),\n",
       " array([0.07990943]),\n",
       " array([0.07959944]),\n",
       " array([0.07929217]),\n",
       " array([0.07898759]),\n",
       " array([0.07868567]),\n",
       " array([0.07838639]),\n",
       " array([0.07808973]),\n",
       " array([0.07779565]),\n",
       " array([0.07750413]),\n",
       " array([0.07721515]),\n",
       " array([0.07692868]),\n",
       " array([0.07664469]),\n",
       " array([0.07636317]),\n",
       " array([0.07608408]),\n",
       " array([0.07580741]),\n",
       " array([0.07553312]),\n",
       " array([0.07526121]),\n",
       " array([0.07499163]),\n",
       " array([0.07472438]),\n",
       " array([0.07445942]),\n",
       " array([0.07419674]),\n",
       " array([0.07393631]),\n",
       " array([0.07367812]),\n",
       " array([0.07342213]),\n",
       " array([0.07316833]),\n",
       " array([0.07291669]),\n",
       " array([0.0726672]),\n",
       " array([0.07241984]),\n",
       " array([0.07217458]),\n",
       " array([0.0719314]),\n",
       " array([0.07169029]),\n",
       " array([0.07145121]),\n",
       " array([0.07121417]),\n",
       " array([0.07097912]),\n",
       " array([0.07074606]),\n",
       " array([0.07051497]),\n",
       " array([0.07028582]),\n",
       " array([0.07005859]),\n",
       " array([0.06983328]),\n",
       " array([0.06960986]),\n",
       " array([0.06938831]),\n",
       " array([0.06916861]),\n",
       " array([0.06895075]),\n",
       " array([0.06873471]),\n",
       " array([0.06852047]),\n",
       " array([0.06830801]),\n",
       " array([0.06809732]),\n",
       " array([0.06788838]),\n",
       " array([0.06768118]),\n",
       " array([0.06747569]),\n",
       " array([0.0672719]),\n",
       " array([0.06706979]),\n",
       " array([0.06686935]),\n",
       " array([0.06667056]),\n",
       " array([0.06647341]),\n",
       " array([0.06627789]),\n",
       " array([0.06608396]),\n",
       " array([0.06589163]),\n",
       " array([0.06570087]),\n",
       " array([0.06551167]),\n",
       " array([0.06532401]),\n",
       " array([0.06513789]),\n",
       " array([0.06495328]),\n",
       " array([0.06477017]),\n",
       " array([0.06458855]),\n",
       " array([0.0644084]),\n",
       " array([0.06422972]),\n",
       " array([0.06405247]),\n",
       " array([0.06387666]),\n",
       " array([0.06370227]),\n",
       " array([0.06352928]),\n",
       " array([0.06335769]),\n",
       " array([0.06318747]),\n",
       " array([0.06301862]),\n",
       " array([0.06285112]),\n",
       " array([0.06268496]),\n",
       " array([0.06252013]),\n",
       " array([0.06235662]),\n",
       " array([0.06219441]),\n",
       " array([0.06203348]),\n",
       " array([0.06187384]),\n",
       " array([0.06171546]),\n",
       " array([0.06155834]),\n",
       " array([0.06140246]),\n",
       " array([0.06124781]),\n",
       " array([0.06109438]),\n",
       " array([0.06094216]),\n",
       " array([0.06079114]),\n",
       " array([0.0606413]),\n",
       " array([0.06049264]),\n",
       " array([0.06034514]),\n",
       " array([0.06019879]),\n",
       " array([0.06005359]),\n",
       " array([0.05990952]),\n",
       " array([0.05976657]),\n",
       " array([0.05962473]),\n",
       " array([0.059484]),\n",
       " array([0.05934435]),\n",
       " array([0.05920578]),\n",
       " array([0.05906829]),\n",
       " array([0.05893185]),\n",
       " array([0.05879647]),\n",
       " array([0.05866212]),\n",
       " array([0.05852881]),\n",
       " array([0.05839652]),\n",
       " array([0.05826524]),\n",
       " array([0.05813497]),\n",
       " array([0.05800569]),\n",
       " array([0.05787739]),\n",
       " array([0.05775007]),\n",
       " array([0.05762372]),\n",
       " array([0.05749832]),\n",
       " array([0.05737388]),\n",
       " array([0.05725037]),\n",
       " array([0.0571278]),\n",
       " array([0.05700615]),\n",
       " array([0.05688542]),\n",
       " array([0.05676559]),\n",
       " array([0.05664666]),\n",
       " array([0.05652862]),\n",
       " array([0.05641146]),\n",
       " array([0.05629518]),\n",
       " array([0.05617976]),\n",
       " array([0.0560652]),\n",
       " array([0.05595149]),\n",
       " array([0.05583862]),\n",
       " array([0.05572659]),\n",
       " array([0.05561538]),\n",
       " array([0.055505]),\n",
       " array([0.05539543]),\n",
       " array([0.05528666]),\n",
       " array([0.05517869]),\n",
       " array([0.05507151]),\n",
       " array([0.05496511]),\n",
       " array([0.05485949]),\n",
       " array([0.05475464]),\n",
       " array([0.05465056]),\n",
       " array([0.05454722]),\n",
       " array([0.05444464]),\n",
       " array([0.0543428]),\n",
       " array([0.05424169]),\n",
       " array([0.05414131]),\n",
       " array([0.05404166]),\n",
       " array([0.05394272]),\n",
       " array([0.05384448]),\n",
       " array([0.05374696]),\n",
       " array([0.05365012]),\n",
       " array([0.05355398]),\n",
       " array([0.05345852]),\n",
       " array([0.05336374]),\n",
       " array([0.05326964]),\n",
       " array([0.05317619]),\n",
       " array([0.05308341]),\n",
       " array([0.05299128]),\n",
       " array([0.0528998]),\n",
       " array([0.05280897]),\n",
       " array([0.05271877]),\n",
       " array([0.0526292]),\n",
       " array([0.05254025]),\n",
       " array([0.05245193]),\n",
       " array([0.05236422]),\n",
       " array([0.05227712]),\n",
       " array([0.05219062]),\n",
       " array([0.05210472]),\n",
       " array([0.05201941]),\n",
       " array([0.05193469]),\n",
       " array([0.05185056]),\n",
       " array([0.051767]),\n",
       " array([0.05168401]),\n",
       " array([0.05160159]),\n",
       " array([0.05151973]),\n",
       " array([0.05143843]),\n",
       " array([0.05135768]),\n",
       " array([0.05127748]),\n",
       " array([0.05119782]),\n",
       " array([0.0511187]),\n",
       " array([0.05104011]),\n",
       " array([0.05096205]),\n",
       " array([0.05088451]),\n",
       " array([0.0508075]),\n",
       " array([0.05073099]),\n",
       " array([0.050655]),\n",
       " array([0.05057951]),\n",
       " array([0.05050453]),\n",
       " array([0.05043004]),\n",
       " array([0.05035604]),\n",
       " array([0.05028253]),\n",
       " array([0.05020951]),\n",
       " array([0.05013696]),\n",
       " array([0.05006489]),\n",
       " array([0.0499933]),\n",
       " array([0.04992216]),\n",
       " array([0.0498515]),\n",
       " array([0.04978129]),\n",
       " array([0.04971153]),\n",
       " array([0.04964223]),\n",
       " array([0.04957338]),\n",
       " array([0.04950496]),\n",
       " array([0.04943699]),\n",
       " array([0.04936945]),\n",
       " array([0.04930235]),\n",
       " array([0.04923567]),\n",
       " array([0.04916942]),\n",
       " array([0.04910359]),\n",
       " array([0.04903818]),\n",
       " array([0.04897318]),\n",
       " array([0.04890859]),\n",
       " array([0.0488444]),\n",
       " array([0.04878062]),\n",
       " array([0.04871724]),\n",
       " array([0.04865426]),\n",
       " array([0.04859167]),\n",
       " array([0.04852946]),\n",
       " array([0.04846765]),\n",
       " array([0.04840621]),\n",
       " array([0.04834516]),\n",
       " array([0.04828448]),\n",
       " array([0.04822417]),\n",
       " array([0.04816424]),\n",
       " array([0.04810467]),\n",
       " array([0.04804547]),\n",
       " array([0.04798662]),\n",
       " array([0.04792813]),\n",
       " array([0.04787]),\n",
       " array([0.04781222]),\n",
       " array([0.04775478]),\n",
       " array([0.0476977]),\n",
       " array([0.04764095]),\n",
       " array([0.04758454]),\n",
       " array([0.04752847]),\n",
       " array([0.04747274]),\n",
       " array([0.04741733]),\n",
       " array([0.04736226]),\n",
       " array([0.04730751]),\n",
       " array([0.04725308]),\n",
       " array([0.04719897]),\n",
       " array([0.04714518]),\n",
       " array([0.0470917]),\n",
       " array([0.04703854]),\n",
       " array([0.04698568]),\n",
       " array([0.04693313]),\n",
       " array([0.04688089]),\n",
       " array([0.04682894]),\n",
       " array([0.0467773]),\n",
       " array([0.04672595]),\n",
       " array([0.0466749]),\n",
       " array([0.04662413]),\n",
       " array([0.04657366]),\n",
       " array([0.04652347]),\n",
       " array([0.04647357]),\n",
       " array([0.04642395]),\n",
       " array([0.04637461]),\n",
       " array([0.04632555]),\n",
       " array([0.04627676]),\n",
       " array([0.04622824]),\n",
       " array([0.04618]),\n",
       " array([0.04613202]),\n",
       " array([0.04608431]),\n",
       " array([0.04603686]),\n",
       " array([0.04598968]),\n",
       " array([0.04594275]),\n",
       " array([0.04589608]),\n",
       " array([0.04584967]),\n",
       " array([0.04580351]),\n",
       " array([0.0457576]),\n",
       " array([0.04571193]),\n",
       " array([0.04566652]),\n",
       " array([0.04562135]),\n",
       " array([0.04557642]),\n",
       " array([0.04553174]),\n",
       " array([0.04548729]),\n",
       " array([0.04544308]),\n",
       " array([0.0453991]),\n",
       " array([0.04535536]),\n",
       " array([0.04531185]),\n",
       " array([0.04526856]),\n",
       " array([0.04522551]),\n",
       " array([0.04518268]),\n",
       " array([0.04514007]),\n",
       " array([0.04509769]),\n",
       " array([0.04505552]),\n",
       " array([0.04501357]),\n",
       " array([0.04497184]),\n",
       " array([0.04493033]),\n",
       " array([0.04488902]),\n",
       " array([0.04484793]),\n",
       " array([0.04480705]),\n",
       " array([0.04476638]),\n",
       " array([0.04472591]),\n",
       " array([0.04468564]),\n",
       " array([0.04464558]),\n",
       " array([0.04460572]),\n",
       " array([0.04456606]),\n",
       " array([0.0445266]),\n",
       " array([0.04448733]),\n",
       " array([0.04444826]),\n",
       " array([0.04440938]),\n",
       " array([0.04437069]),\n",
       " array([0.0443322]),\n",
       " array([0.04429389]),\n",
       " array([0.04425577]),\n",
       " array([0.04421783]),\n",
       " array([0.04418008]),\n",
       " array([0.04414251]),\n",
       " array([0.04410512]),\n",
       " array([0.04406791]),\n",
       " array([0.04403088]),\n",
       " array([0.04399403]),\n",
       " array([0.04395735]),\n",
       " array([0.04392085]),\n",
       " array([0.04388452]),\n",
       " array([0.04384836]),\n",
       " array([0.04381237]),\n",
       " array([0.04377655]),\n",
       " array([0.04374089]),\n",
       " array([0.0437054]),\n",
       " array([0.04367008]),\n",
       " array([0.04363492]),\n",
       " array([0.04359992]),\n",
       " array([0.04356508]),\n",
       " array([0.0435304]),\n",
       " array([0.04349588]),\n",
       " array([0.04346152]),\n",
       " array([0.04342731]),\n",
       " array([0.04339326]),\n",
       " array([0.04335936]),\n",
       " array([0.04332562]),\n",
       " array([0.04329202]),\n",
       " array([0.04325857]),\n",
       " array([0.04322528]),\n",
       " array([0.04319213]),\n",
       " array([0.04315912]),\n",
       " array([0.04312626]),\n",
       " array([0.04309355]),\n",
       " array([0.04306098]),\n",
       " array([0.04302855]),\n",
       " array([0.04299626]),\n",
       " array([0.04296411]),\n",
       " array([0.0429321]),\n",
       " array([0.04290022]),\n",
       " array([0.04286849]),\n",
       " array([0.04283689]),\n",
       " array([0.04280542]),\n",
       " array([0.04277408]),\n",
       " array([0.04274288]),\n",
       " array([0.04271181]),\n",
       " array([0.04268087]),\n",
       " array([0.04265006]),\n",
       " array([0.04261938]),\n",
       " array([0.04258882]),\n",
       " array([0.04255839]),\n",
       " array([0.04252809]),\n",
       " array([0.04249791]),\n",
       " array([0.04246785]),\n",
       " array([0.04243792]),\n",
       " array([0.04240811]),\n",
       " array([0.04237842]),\n",
       " array([0.04234885]),\n",
       " array([0.0423194]),\n",
       " array([0.04229006]),\n",
       " array([0.04226084]),\n",
       " array([0.04223174]),\n",
       " array([0.04220276]),\n",
       " array([0.04217389]),\n",
       " array([0.04214513]),\n",
       " array([0.04211648]),\n",
       " array([0.04208795]),\n",
       " array([0.04205953]),\n",
       " array([0.04203122]),\n",
       " array([0.04200301]),\n",
       " array([0.04197492]),\n",
       " array([0.04194693]),\n",
       " array([0.04191905]),\n",
       " array([0.04189128]),\n",
       " array([0.04186361]),\n",
       " array([0.04183605]),\n",
       " array([0.04180859]),\n",
       " array([0.04178124]),\n",
       " array([0.04175398]),\n",
       " array([0.04172683]),\n",
       " array([0.04169978]),\n",
       " array([0.04167283]),\n",
       " array([0.04164598]),\n",
       " array([0.04161922]),\n",
       " array([0.04159257]),\n",
       " array([0.04156601]),\n",
       " array([0.04153955]),\n",
       " array([0.04151318]),\n",
       " array([0.04148691]),\n",
       " array([0.04146073]),\n",
       " array([0.04143465]),\n",
       " array([0.04140866]),\n",
       " array([0.04138276]),\n",
       " array([0.04135695]),\n",
       " array([0.04133124]),\n",
       " array([0.04130561]),\n",
       " array([0.04128008]),\n",
       " array([0.04125463]),\n",
       " array([0.04122928]),\n",
       " array([0.041204]),\n",
       " array([0.04117882]),\n",
       " array([0.04115373]),\n",
       " array([0.04112871]),\n",
       " array([0.04110379]),\n",
       " array([0.04107895]),\n",
       " array([0.04105419]),\n",
       " array([0.04102952]),\n",
       " array([0.04100493]),\n",
       " array([0.04098042]),\n",
       " array([0.04095599]),\n",
       " array([0.04093165]),\n",
       " array([0.04090738]),\n",
       " array([0.0408832]),\n",
       " array([0.04085909]),\n",
       " array([0.04083506]),\n",
       " array([0.04081111]),\n",
       " array([0.04078724]),\n",
       " array([0.04076345]),\n",
       " array([0.04073973]),\n",
       " array([0.04071609]),\n",
       " array([0.04069252]),\n",
       " array([0.04066903]),\n",
       " array([0.04064562]),\n",
       " array([0.04062227]),\n",
       " array([0.04059901]),\n",
       " array([0.04057581]),\n",
       " array([0.04055269]),\n",
       " array([0.04052963]),\n",
       " array([0.04050665]),\n",
       " array([0.04048374]),\n",
       " array([0.04046091]),\n",
       " array([0.04043814]),\n",
       " array([0.04041544]),\n",
       " array([0.04039281]),\n",
       " array([0.04037025]),\n",
       " array([0.04034775]),\n",
       " array([0.04032533]),\n",
       " array([0.04030297]),\n",
       " ...]"
      ]
     },
     "execution_count": 129,
     "metadata": {},
     "output_type": "execute_result"
    }
   ],
   "source": [
    "mlp.train(train_input_layer,true_output_layer)"
   ]
  },
  {
   "cell_type": "code",
   "execution_count": 24,
   "metadata": {},
   "outputs": [],
   "source": [
    "output_layer=mlp.calculate(train_input_layer)"
   ]
  },
  {
   "cell_type": "code",
   "execution_count": 88,
   "metadata": {},
   "outputs": [
    {
     "name": "stdout",
     "output_type": "stream",
     "text": [
      "1000\n",
      "2000\n",
      "3000\n"
     ]
    }
   ],
   "source": [
    "lin=np.linspace(0,train_input_layer.shape[0],int(train_input_layer.shape[0]*batch)).round().astype(int)\n",
    "output_layer=mlp.calculate(train_input_layer)\n",
    "error=sum((true_output_layer-output_layer)**2)\n",
    "iteration=0\n",
    "old_gradient=[[0]*(len(lin)-1) for x in range(len(mlp.weights))]\n",
    "old_gradient_bias=[[0]*(len(lin)-1) for x in range(len(mlp.weights))]\n",
    "error_list=[error]\n",
    "\n",
    "for xd in range(2*10**3):\n",
    "    iteration+=1\n",
    "    \n",
    "    for b in range(len(lin)-1):\n",
    "        \n",
    "        input_layer=train_input_layer[lin[b]:lin[b+1]]\n",
    "        output_layer=mlp.calculate(input_layer,memory=True)\n",
    "        batch_size=output_layer.shape[0]\n",
    "        errors=[[0]*len(mlp.weights) for x in range(batch_size)]\n",
    "\n",
    "        for x in range(batch_size):\n",
    "            #derivative of x is 1\n",
    "            errors[x][-1]=((output_layer[x]-true_output_layer[lin[b]:lin[b+1]][x])).reshape(-1,1)\n",
    "\n",
    "            for i in range(len(mlp.weights)-2,-1,-1): \n",
    "                errors[x][i]=mlp.weights[i+1].T.dot(errors[x][i+1])*sigmoid_derivative(mlp.hidden_layers[i][:,x:x+1])\n",
    "\n",
    "        for l in range(1,len(mlp.weights)):\n",
    "\n",
    "            if(RMSprop):\n",
    "                new_gradient=sum([errors[x][l].dot(mlp.activation_function(mlp.hidden_layers[l-1][:,x:x+1]).T) for x in range(batch_size)])/batch_size\n",
    "                old_gradient[l][b]=beta*old_gradient[l][b]+(1-beta)*new_gradient**2\n",
    "                mlp.weights[l]=mlp.weights[l]-new_gradient*(rate/(np.sqrt(old_gradient[l][b])+eps))\n",
    "                \n",
    "                new_gradient_bias=sum([errors[x][l] for x in range(batch_size)])/batch_size\n",
    "                old_gradient_bias[l][b]=beta*old_gradient_bias[l][b]+(1-beta)*new_gradient_bias**2\n",
    "                mlp.biases[l]=mlp.biases[l]-new_gradient_bias*(rate/(np.sqrt(old_gradient_bias[l][b])+eps))\n",
    "            else:\n",
    "                new_gradient=sum([errors[x][l].dot(mlp.activation_function(mlp.hidden_layers[l-1][:,x:x+1]).T) for x in range(batch_size)])/batch_size\n",
    "                new_gradient=beta*old_gradient[l][b]+(1-beta)*new_gradient\n",
    "                old_gradient[l][b]=new_gradient\n",
    "                mlp.weights[l]=mlp.weights[l]-new_gradient*rate\n",
    "\n",
    "                new_gradient_bias=sum([errors[x][l] for x in range(batch_size)])/batch_size\n",
    "                new_gradient_bias=beta*old_gradient_bias[l][b]+(1-beta)*new_gradient_bias\n",
    "                old_gradient_bias[l][b]=new_gradient_bias\n",
    "                mlp.biases[l]=mlp.biases[l]-new_gradient_bias*rate\n",
    "\n",
    "        if(RMSprop):\n",
    "            new_gradient=sum([errors[x][0].dot((mlp.input_layer.T[:,x:x+1]).T) for x in range(batch_size)])/batch_size\n",
    "            old_gradient[0][b]=beta*old_gradient[0][b]+(1-beta)*new_gradient**2\n",
    "            mlp.weights[0]=mlp.weights[0]-new_gradient*(rate/(np.sqrt(old_gradient[0][b])+eps))\n",
    "            \n",
    "            new_gradient_bias=sum([errors[x][0] for x in range(batch_size)])/batch_size\n",
    "            old_gradient_bias[0][b]=beta*old_gradient_bias[l][b]+(1-beta)*new_gradient_bias**2\n",
    "            mlp.biases[0]=mlp.biases[0]-new_gradient_bias*(rate/(np.sqrt(old_gradient_bias[0][b])+eps))\n",
    "        else:\n",
    "            new_gradient=sum([errors[x][0].dot((mlp.input_layer.T[:,x:x+1]).T) for x in range(batch_size)])/batch_size\n",
    "            new_gradient=beta*old_gradient[0][b]+(1-beta)*new_gradient\n",
    "            old_gradient[0][b]=new_gradient\n",
    "            mlp.weights[0]=mlp.weights[0]-new_gradient*rate\n",
    "\n",
    "            new_gradient_bias=sum([errors[x][0] for x in range(batch_size)])/batch_size\n",
    "            new_gradient_bias=beta*old_gradient_bias[0][b]+(1-beta)*new_gradient_bias\n",
    "            old_gradient_bias[0][b]=new_gradient_bias\n",
    "            mlp.biases[0]=mlp.biases[0]-new_gradient_bias*rate\n",
    "        \n",
    "        \n",
    "    output_layer=mlp.calculate(train_input_layer)\n",
    "    new_error=sum((true_output_layer-output_layer)**2)\n",
    "    error_list.append(new_error)\n",
    "    \n",
    "    if(iteration % 1000 == 0):\n",
    "        print(iteration)\n",
    "    \n",
    "    if (abs(new_error-error)/error)<stop:\n",
    "        print((new_error-error)/error)\n",
    "        print(iteration)\n",
    "        break\n",
    "    \n",
    "    error=new_error\n",
    "\n"
   ]
  },
  {
   "cell_type": "code",
   "execution_count": 172,
   "metadata": {},
   "outputs": [],
   "source": [
    "mlp_start=MLP(1,1,[15,17,19],sigmoid)\n",
    "\n",
    "train_input_layer=(X-X.mean())/X.std()\n",
    "\n",
    "true_output_layer=(Y-Y.mean())/Y.std()"
   ]
  },
  {
   "cell_type": "code",
   "execution_count": 173,
   "metadata": {},
   "outputs": [],
   "source": [
    "mlp_vanilla=MLP(1,1,[15,17,19],sigmoid)\n",
    "mlp_vanilla.weights=mlp_start.weights.copy()\n",
    "mlp_vanilla.biases=mlp_start.biases.copy()"
   ]
  },
  {
   "cell_type": "code",
   "execution_count": 174,
   "metadata": {},
   "outputs": [],
   "source": [
    "mlp_RMS=MLP(1,1,[15,17,19],sigmoid)\n",
    "mlp_RMS.weights=mlp_start.weights.copy()\n",
    "mlp_RMS.biases=mlp_start.biases.copy()"
   ]
  },
  {
   "cell_type": "code",
   "execution_count": 175,
   "metadata": {},
   "outputs": [],
   "source": [
    "mlp_vanilla_batch=MLP(1,1,[15,17,19],sigmoid)\n",
    "mlp_vanilla_batch.weights=mlp_start.weights.copy()\n",
    "mlp_vanilla_batch.biases=mlp_start.biases.copy()"
   ]
  },
  {
   "cell_type": "code",
   "execution_count": 176,
   "metadata": {},
   "outputs": [],
   "source": [
    "mlp_momentum=MLP(1,1,[15,17,19],sigmoid)\n",
    "mlp_momentum.weights=mlp_start.weights.copy()\n",
    "mlp_momentum.biases=mlp_start.biases.copy()"
   ]
  },
  {
   "cell_type": "code",
   "execution_count": null,
   "metadata": {},
   "outputs": [],
   "source": [
    "mlp.mom"
   ]
  },
  {
   "cell_type": "code",
   "execution_count": 177,
   "metadata": {},
   "outputs": [
    {
     "name": "stdout",
     "output_type": "stream",
     "text": [
      "[271.69752872]\n",
      "1000\n",
      "2000\n",
      "3000\n"
     ]
    }
   ],
   "source": [
    "error_momentum=mlp_momentum.train(train_input_layer,true_output_layer)"
   ]
  },
  {
   "cell_type": "code",
   "execution_count": 178,
   "metadata": {},
   "outputs": [
    {
     "name": "stdout",
     "output_type": "stream",
     "text": [
      "[271.69752872]\n",
      "1000\n",
      "2000\n",
      "3000\n"
     ]
    }
   ],
   "source": [
    "error_vanilla_batch=mlp_vanilla_batch.train(train_input_layer,true_output_layer,beta=0)"
   ]
  },
  {
   "cell_type": "code",
   "execution_count": 179,
   "metadata": {},
   "outputs": [
    {
     "name": "stdout",
     "output_type": "stream",
     "text": [
      "[271.69752872]\n",
      "1000\n",
      "2000\n",
      "3000\n"
     ]
    }
   ],
   "source": [
    "error_vanilla=mlp_vanilla.train(train_input_layer,true_output_layer,batch=1,beta=0)"
   ]
  },
  {
   "cell_type": "code",
   "execution_count": 180,
   "metadata": {},
   "outputs": [
    {
     "name": "stdout",
     "output_type": "stream",
     "text": [
      "[271.69752872]\n",
      "1000\n",
      "2000\n",
      "3000\n"
     ]
    }
   ],
   "source": [
    "error_RMS=mlp_RMS.train(train_input_layer,true_output_layer,RMSprop=True)"
   ]
  },
  {
   "cell_type": "code",
   "execution_count": 113,
   "metadata": {},
   "outputs": [
    {
     "name": "stdout",
     "output_type": "stream",
     "text": [
      "1000\n",
      "2000\n",
      "3000\n"
     ]
    }
   ],
   "source": [
    "error_list=mlp.train(train_input_layer,true_output_layer)"
   ]
  },
  {
   "cell_type": "code",
   "execution_count": 130,
   "metadata": {},
   "outputs": [
    {
     "data": {
      "text/plain": [
       "<matplotlib.collections.PathCollection at 0x7f585a8f7a90>"
      ]
     },
     "execution_count": 130,
     "metadata": {},
     "output_type": "execute_result"
    },
    {
     "data": {
      "image/png": "[encoded data removed]",
      "text/plain": [
       "<Figure size 432x288 with 1 Axes>"
      ]
     },
     "metadata": {
      "needs_background": "light"
     },
     "output_type": "display_data"
    }
   ],
   "source": [
    "fig=plt.figure()\n",
    "ax=fig.add_axes([0,0,1,1])\n",
    "ax.scatter(train_input_layer, true_output_layer, color='r')\n",
    "ax.scatter(train_input_layer,output_layer,color=\"b\")"
   ]
  },
  {
   "cell_type": "code",
   "execution_count": 103,
   "metadata": {},
   "outputs": [],
   "source": [
    "t = np.arange(1, 3002, 1)"
   ]
  },
  {
   "cell_type": "code",
   "execution_count": 184,
   "metadata": {},
   "outputs": [
    {
     "data": {
      "text/plain": [
       "[<matplotlib.lines.Line2D at 0x7f5859fce700>,\n",
       " <matplotlib.lines.Line2D at 0x7f5859fcef70>,\n",
       " <matplotlib.lines.Line2D at 0x7f585a409610>]"
      ]
     },
     "execution_count": 184,
     "metadata": {},
     "output_type": "execute_result"
    },
    {
     "data": {
      "image/png": "[encoded data removed]",
      "text/plain": [
       "<Figure size 432x288 with 1 Axes>"
      ]
     },
     "metadata": {
      "needs_background": "light"
     },
     "output_type": "display_data"
    }
   ],
   "source": [
    "plt.plot(t,error_momentum,t,error_vanilla,t,error_vanilla_batch)"
   ]
  },
  {
   "cell_type": "code",
   "execution_count": 183,
   "metadata": {},
   "outputs": [
    {
     "data": {
      "text/plain": [
       "[<matplotlib.lines.Line2D at 0x7f5859e939d0>]"
      ]
     },
     "execution_count": 183,
     "metadata": {},
     "output_type": "execute_result"
    },
    {
     "data": {
      "image/png": "[encoded data removed]",
      "text/plain": [
       "<Figure size 432x288 with 1 Axes>"
      ]
     },
     "metadata": {
      "needs_background": "light"
     },
     "output_type": "display_data"
    }
   ],
   "source": [
    "plt.plot(t,error_RMS)"
   ]
  },
  {
   "cell_type": "code",
   "execution_count": 49,
   "metadata": {},
   "outputs": [
    {
     "data": {
      "text/plain": [
       "[(15, 1), (17, 1), (19, 1)]"
      ]
     },
     "execution_count": 49,
     "metadata": {},
     "output_type": "execute_result"
    }
   ],
   "source": [
    "[mlp.hidden_layers[x].shape for x in range(3)]"
   ]
  },
  {
   "cell_type": "code",
   "execution_count": 48,
   "metadata": {},
   "outputs": [
    {
     "data": {
      "text/plain": [
       "[(15, 1), (17, 1), (19, 1), (1, 1)]"
      ]
     },
     "execution_count": 48,
     "metadata": {},
     "output_type": "execute_result"
    }
   ],
   "source": [
    "[errors[0][x].shape for x in range(len(errors[0]))]"
   ]
  },
  {
   "cell_type": "code",
   "execution_count": 58,
   "metadata": {},
   "outputs": [
    {
     "data": {
      "text/plain": [
       "[(15, 19), (17, 15), (19, 17), (1, 19)]"
      ]
     },
     "execution_count": 58,
     "metadata": {},
     "output_type": "execute_result"
    }
   ],
   "source": [
    "[mlp.weights[x].shape for x in range(len(mlp.weights))]"
   ]
  },
  {
   "cell_type": "code",
   "execution_count": 57,
   "metadata": {},
   "outputs": [
    {
     "data": {
      "text/plain": [
       "[(15, 1), (17, 1), (19, 1), (1, 1)]"
      ]
     },
     "execution_count": 57,
     "metadata": {},
     "output_type": "execute_result"
    }
   ],
   "source": [
    "[mlp.biases[x].shape for x in range(len(mlp.weights))]"
   ]
  },
  {
   "cell_type": "code",
   "execution_count": 54,
   "metadata": {},
   "outputs": [
    {
     "data": {
      "text/plain": [
       "(100, 1)"
      ]
     },
     "execution_count": 54,
     "metadata": {},
     "output_type": "execute_result"
    }
   ],
   "source": [
    "mlp.output_layer.shape"
   ]
  },
  {
   "cell_type": "code",
   "execution_count": 401,
   "metadata": {},
   "outputs": [
    {
     "data": {
      "text/plain": [
       "array([[0.02163984]])"
      ]
     },
     "execution_count": 401,
     "metadata": {},
     "output_type": "execute_result"
    }
   ],
   "source": [
    "((output_layer[0]-true_output_layer[0])*output_layer[0]).reshape(-1,1)"
   ]
  },
  {
   "cell_type": "code",
   "execution_count": 370,
   "metadata": {},
   "outputs": [
    {
     "data": {
      "text/plain": [
       "4"
      ]
     },
     "execution_count": 370,
     "metadata": {},
     "output_type": "execute_result"
    }
   ],
   "source": [
    "len(errors[0])"
   ]
  },
  {
   "cell_type": "code",
   "execution_count": 371,
   "metadata": {},
   "outputs": [
    {
     "data": {
      "text/plain": [
       "100"
      ]
     },
     "execution_count": 371,
     "metadata": {},
     "output_type": "execute_result"
    }
   ],
   "source": [
    "len(errors)"
   ]
  },
  {
   "cell_type": "code",
   "execution_count": 199,
   "metadata": {},
   "outputs": [
    {
     "data": {
      "text/plain": [
       "(4, 3)"
      ]
     },
     "execution_count": 199,
     "metadata": {},
     "output_type": "execute_result"
    }
   ],
   "source": [
    "mlp.weights[1].shape"
   ]
  },
  {
   "cell_type": "code",
   "execution_count": 73,
   "metadata": {},
   "outputs": [
    {
     "data": {
      "text/plain": [
       "array([-0.03199908,  0.00470084, -0.25536774,  0.35579902,  0.00207604,\n",
       "        0.34537689,  0.29979171,  0.13802362,  0.35411896,  0.12422137,\n",
       "       -0.06211776, -0.05342072, -0.01964256,  0.2325045 , -0.25438486,\n",
       "        0.20906782,  0.16237478, -0.16799066, -0.1093466 ,  0.0560442 ,\n",
       "        0.16128476,  0.36185598,  0.21608555,  0.09004325,  0.27493971,\n",
       "       -0.15610197, -0.10268811,  0.2608824 ,  0.17277385, -0.12275886,\n",
       "       -0.25173919, -0.18808972, -0.138532  ,  0.03318402, -0.15092045,\n",
       "        0.18984732, -0.27465792, -0.03465583,  0.05604079, -0.27878033,\n",
       "        0.09991191, -0.17671256, -0.04540331,  0.14171443,  0.22671384,\n",
       "        0.08818804, -0.12722544, -0.22105923, -0.22391131, -0.08053474,\n",
       "        0.15594371, -0.27964974, -0.14363456,  0.3293536 ,  0.32452923,\n",
       "        0.19946977, -0.06234968,  0.05646883,  0.20592045,  0.12443097,\n",
       "        0.12905735, -0.1380278 , -0.13841325, -0.02587128,  0.33550476,\n",
       "        0.3486618 ,  0.203231  ,  0.19891587,  0.06998212, -0.27832174,\n",
       "        0.11775737,  0.26652529,  0.21084833,  0.01577367,  0.07000086,\n",
       "        0.07103678, -0.27890419, -0.04759853,  0.11984374,  0.26139402,\n",
       "       -0.04690906, -0.01171025,  0.09460523,  0.10518346,  0.19004414,\n",
       "       -0.02193571,  0.32032414,  0.34863718, -0.12734287,  0.19320428,\n",
       "        0.31015919,  0.11419045,  0.13249277,  0.33219476,  0.27545746,\n",
       "        0.09874775,  0.25647248, -0.20556111,  0.21932611,  0.12733904])"
      ]
     },
     "execution_count": 73,
     "metadata": {},
     "output_type": "execute_result"
    }
   ],
   "source": [
    "#warstwa neuron pattern\n",
    "mlp.hidden_layers[0][0]"
   ]
  },
  {
   "cell_type": "code",
   "execution_count": 324,
   "metadata": {},
   "outputs": [
    {
     "name": "stdout",
     "output_type": "stream",
     "text": [
      "[[6.68602948e-01]\n",
      " [6.10105933e-01]\n",
      " [3.47440350e-04]\n",
      " ...\n",
      " [6.10151439e-01]\n",
      " [6.10194959e-01]\n",
      " [6.10171751e-01]]\n"
     ]
    }
   ],
   "source": [
    "mlp.train(X,Y)"
   ]
  },
  {
   "cell_type": "code",
   "execution_count": null,
   "metadata": {},
   "outputs": [],
   "source": [
    "pd.read_csv"
   ]
  },
  {
   "cell_type": "code",
   "execution_count": 107,
   "metadata": {},
   "outputs": [],
   "source": [
    "#test=pd.read_csv(\"mio1/regression/steps-large-training.csv\",delimiter=\",\")"
   ]
  },
  {
   "cell_type": "code",
   "execution_count": 38,
   "metadata": {},
   "outputs": [],
   "source": [
    "test = np.loadtxt(\"mio1/regression/square-simple-training.csv\", delimiter=',', skiprows=1, usecols=range(1,3))"
   ]
  },
  {
   "cell_type": "code",
   "execution_count": 40,
   "metadata": {},
   "outputs": [
    {
     "data": {
      "text/plain": [
       "array([[-1.71542658e-01, -1.27351580e+02],\n",
       "       [ 2.52005474e-02, -1.29942844e+02],\n",
       "       [-1.36899138e+00,  3.86723671e+01],\n",
       "       [ 1.90738970e+00,  1.97432191e+02],\n",
       "       [ 1.11293711e-02, -1.29988852e+02],\n",
       "       [ 1.85151809e+00,  1.78530731e+02],\n",
       "       [ 1.60714217e+00,  1.02461536e+02],\n",
       "       [ 7.39925693e-01, -8.07258972e+01],\n",
       "       [ 1.89838314e+00,  1.94347268e+02],\n",
       "       [ 6.65933726e-01, -9.00879046e+01],\n",
       "       [-3.33004761e-01, -1.20019705e+02],\n",
       "       [-2.86381131e-01, -1.22618726e+02],\n",
       "       [-1.05301060e-01, -1.29002052e+02],\n",
       "       [ 1.24642471e+00,  9.82171130e+00],\n",
       "       [-1.36372228e+00,  3.73764614e+01],\n",
       "       [ 1.12078385e+00, -1.69459202e+01],\n",
       "       [ 8.70468906e-01, -6.18055496e+01],\n",
       "       [-9.00574844e-01, -5.70068456e+01],\n",
       "       [-5.86192127e-01, -9.90740912e+01],\n",
       "       [ 3.00445271e-01, -1.21875938e+02],\n",
       "       [ 8.64625461e-01, -6.27180531e+01],\n",
       "       [ 1.93986019e+00,  2.08675181e+02],\n",
       "       [ 1.15840494e+00, -9.22882029e+00],\n",
       "       [ 4.82709484e-01, -1.09029240e+02],\n",
       "       [ 1.47391401e+00,  6.55180271e+01],\n",
       "       [-8.36841226e-01, -6.69727086e+01],\n",
       "       [-5.50496849e-01, -1.02725790e+02],\n",
       "       [ 1.39855470e+00,  4.60359720e+01],\n",
       "       [ 9.26216871e-01, -5.27910076e+01],\n",
       "       [-6.58093411e-01, -9.10221756e+01],\n",
       "       [-1.34953921e+00,  3.39130481e+01],\n",
       "       [-1.00832317e+00, -3.84955945e+01],\n",
       "       [-7.42651047e-01, -8.03622480e+01],\n",
       "       [ 1.77894975e-01, -1.27151804e+02],\n",
       "       [-8.09063802e-01, -7.10874188e+01],\n",
       "       [ 1.01774543e+00, -3.67774812e+01],\n",
       "       [-1.47240341e+00,  6.51174633e+01],\n",
       "       [-1.85785124e-01, -1.26893550e+02],\n",
       "       [ 3.00426979e-01, -1.21876927e+02],\n",
       "       [-1.49450306e+00,  7.10185457e+01],\n",
       "       [ 5.35614009e-01, -1.04180587e+02],\n",
       "       [-9.47331771e-01, -4.92306263e+01],\n",
       "       [-2.43400929e-01, -1.24668039e+02],\n",
       "       [ 7.59711574e-01, -7.80554491e+01],\n",
       "       [ 1.21538177e+00,  2.94375605e+00],\n",
       "       [ 4.72763945e-01, -1.09884483e+02],\n",
       "       [-6.82038105e-01, -8.81341621e+01],\n",
       "       [-1.18506819e+00, -3.60520406e+00],\n",
       "       [-1.20035777e+00, -3.22709564e-01],\n",
       "       [-4.31735707e-01, -1.13224385e+02],\n",
       "       [ 8.35992801e-01, -6.71004432e+01],\n",
       "       [-1.49916386e+00,  7.22743057e+01],\n",
       "       [-7.70005151e-01, -7.66382861e+01],\n",
       "       [ 1.76561945e+00,  1.50567082e+02],\n",
       "       [ 1.73975662e+00,  1.42407779e+02],\n",
       "       [ 1.06933005e+00, -2.70879913e+01],\n",
       "       [-3.34248058e-01, -1.19945041e+02],\n",
       "       [ 3.02721654e-01, -1.21752364e+02],\n",
       "       [ 1.10391126e+00, -2.03241933e+01],\n",
       "       [ 6.67057340e-01, -8.99531054e+01],\n",
       "       [ 6.91858706e-01, -8.69198378e+01],\n",
       "       [-7.39948056e-01, -8.07229187e+01],\n",
       "       [-7.42014412e-01, -8.04473152e+01],\n",
       "       [-1.38692400e-01, -1.28268798e+02],\n",
       "       [ 1.79859492e+00,  1.61144932e+02],\n",
       "       [ 1.86912805e+00,  1.84427569e+02],\n",
       "       [ 1.08949348e+00, -2.31703567e+01],\n",
       "       [ 1.06636067e+00, -2.76587429e+01],\n",
       "       [ 3.75164515e-01, -1.17332643e+02],\n",
       "       [-1.49204462e+00,  7.03577430e+01],\n",
       "       [ 6.31281084e-01, -9.41335774e+01],\n",
       "       [ 1.42880546e+00,  5.37336533e+01],\n",
       "       [ 1.13032897e+00, -1.50120779e+01],\n",
       "       [ 8.45605040e-02, -1.29356457e+02],\n",
       "       [ 3.75264978e-01, -1.17325858e+02],\n",
       "       [ 3.80818434e-01, -1.16947959e+02],\n",
       "       [-1.49516705e+00,  7.11972050e+01],\n",
       "       [-2.55169162e-01, -1.24139983e+02],\n",
       "       [ 6.42465816e-01, -9.28513908e+01],\n",
       "       [ 1.40129746e+00,  4.67271107e+01],\n",
       "       [-2.51473002e-01, -1.24308520e+02],\n",
       "       [-6.27770596e-02, -1.29645314e+02],\n",
       "       [ 5.07165646e-01, -1.06850471e+02],\n",
       "       [ 5.63874062e-01, -1.01384144e+02],\n",
       "       [ 1.01880052e+00, -3.65840944e+01],\n",
       "       [-1.17594342e-01, -1.28755441e+02],\n",
       "       [ 1.71721375e+00,  1.35394076e+02],\n",
       "       [ 1.86899603e+00,  1.84383154e+02],\n",
       "       [-6.82667661e-01, -8.80568379e+01],\n",
       "       [ 1.03574160e+00, -3.34515404e+01],\n",
       "       [ 1.66272084e+00,  1.18817653e+02],\n",
       "       [ 6.12159297e-01, -9.62734896e+01],\n",
       "       [ 7.10275546e-01, -8.45957784e+01],\n",
       "       [ 1.78085047e+00,  1.55428557e+02],\n",
       "       [ 1.47668963e+00,  6.62551030e+01],\n",
       "       [ 5.29373147e-01, -1.04778766e+02],\n",
       "       [ 1.37491373e+00,  4.01348998e+01],\n",
       "       [-1.10198487e+00, -2.07066415e+01],\n",
       "       [ 1.17577716e+00, -5.57932729e+00],\n",
       "       [ 6.82647100e-01, -8.80593643e+01]])"
      ]
     },
     "execution_count": 40,
     "metadata": {},
     "output_type": "execute_result"
    }
   ],
   "source": [
    "test"
   ]
  },
  {
   "cell_type": "code",
   "execution_count": 109,
   "metadata": {},
   "outputs": [],
   "source": [
    "test=test[[\"x\",\"y\"]]"
   ]
  },
  {
   "cell_type": "code",
   "execution_count": 114,
   "metadata": {},
   "outputs": [
    {
     "data": {
      "text/plain": [
       "<matplotlib.axes._subplots.AxesSubplot at 0x7fbccb582e50>"
      ]
     },
     "execution_count": 114,
     "metadata": {},
     "output_type": "execute_result"
    },
    {
     "data": {
      "image/png": "[encoded data removed]",
      "text/plain": [
       "<Figure size 432x288 with 1 Axes>"
      ]
     },
     "metadata": {
      "needs_background": "light"
     },
     "output_type": "display_data"
    }
   ],
   "source": [
    "test.plot.scatter(x=\"x\",y=\"y\")"
   ]
  },
  {
   "cell_type": "code",
   "execution_count": 263,
   "metadata": {},
   "outputs": [],
   "source": [
    "test_mlp=MPL(1,1,[5],sigmoid)"
   ]
  },
  {
   "cell_type": "code",
   "execution_count": 264,
   "metadata": {},
   "outputs": [
    {
     "data": {
      "text/plain": [
       "array([[0.92611473],\n",
       "       [3.68774105],\n",
       "       [2.40454252],\n",
       "       ...,\n",
       "       [3.46152408],\n",
       "       [3.2786449 ],\n",
       "       [3.37272737]])"
      ]
     },
     "execution_count": 264,
     "metadata": {},
     "output_type": "execute_result"
    }
   ],
   "source": [
    "test_mlp.calculate(X)"
   ]
  },
  {
   "cell_type": "code",
   "execution_count": 127,
   "metadata": {},
   "outputs": [],
   "source": [
    "X=np.vstack(test[\"x\"].to_numpy())"
   ]
  },
  {
   "cell_type": "code",
   "execution_count": 177,
   "metadata": {},
   "outputs": [],
   "source": [
    "Y_hat=test_mpl.output_layer"
   ]
  },
  {
   "cell_type": "code",
   "execution_count": 178,
   "metadata": {},
   "outputs": [],
   "source": [
    "Y=np.vstack(test[\"y\"].to_numpy())"
   ]
  },
  {
   "cell_type": "code",
   "execution_count": 179,
   "metadata": {},
   "outputs": [
    {
     "data": {
      "text/plain": [
       "array([70884723.61747867])"
      ]
     },
     "execution_count": 179,
     "metadata": {},
     "output_type": "execute_result"
    }
   ],
   "source": [
    "sum((Y-Y_hat)**2)"
   ]
  },
  {
   "cell_type": "code",
   "execution_count": 193,
   "metadata": {},
   "outputs": [
    {
     "data": {
      "text/plain": [
       "array([[0.79744999, 0.46417824, 0.5293035 , 0.29351545, 0.87100363]])"
      ]
     },
     "execution_count": 193,
     "metadata": {},
     "output_type": "execute_result"
    }
   ],
   "source": [
    "np.random.random((1,5))"
   ]
  },
  {
   "cell_type": "code",
   "execution_count": 246,
   "metadata": {},
   "outputs": [
    {
     "data": {
      "text/plain": [
       "-80"
      ]
     },
     "execution_count": 246,
     "metadata": {},
     "output_type": "execute_result"
    }
   ],
   "source": [
    "Y.min()"
   ]
  },
  {
   "cell_type": "code",
   "execution_count": 450,
   "metadata": {},
   "outputs": [],
   "source": [
    "test_mlp=MLP(1,1,[4],sigmoid)"
   ]
  },
  {
   "cell_type": "code",
   "execution_count": 437,
   "metadata": {},
   "outputs": [],
   "source": [
    "test_mlp.weights[0]=np.ones(test_mlp.weights[0].shape)"
   ]
  },
  {
   "cell_type": "code",
   "execution_count": 449,
   "metadata": {},
   "outputs": [
    {
     "data": {
      "text/plain": [
       "(100, 1)"
      ]
     },
     "execution_count": 449,
     "metadata": {},
     "output_type": "execute_result"
    }
   ],
   "source": [
    "X.shape"
   ]
  },
  {
   "cell_type": "code",
   "execution_count": 461,
   "metadata": {},
   "outputs": [],
   "source": [
    "test_mlp=MLP(1,1,[7],sigmoid)\n",
    "\n",
    "test_mlp.weights[0]=np.ones(test_mlp.weights[0].shape)\n",
    "test_mlp.weights[1]=np.ones(test_mlp.weights[1].shape)\n",
    "\n",
    "\n",
    "test_mlp.calculate(X)\n",
    "Y_hat=test_mlp.output_layer"
   ]
  },
  {
   "cell_type": "code",
   "execution_count": 462,
   "metadata": {},
   "outputs": [
    {
     "data": {
      "text/plain": [
       "<matplotlib.collections.PathCollection at 0x7f965c157c10>"
      ]
     },
     "execution_count": 462,
     "metadata": {},
     "output_type": "execute_result"
    },
    {
     "data": {
      "image/png": "[encoded data removed]",
      "text/plain": [
       "<Figure size 432x288 with 1 Axes>"
      ]
     },
     "metadata": {
      "needs_background": "light"
     },
     "output_type": "display_data"
    }
   ],
   "source": [
    "fig=plt.figure()\n",
    "ax=fig.add_axes([0,0,1,1])\n",
    "ax.scatter(X, Y/1000, color='r')\n",
    "ax.scatter(X,Y_hat,color=\"b\")"
   ]
  },
  {
   "cell_type": "code",
   "execution_count": 441,
   "metadata": {},
   "outputs": [
    {
     "data": {
      "text/plain": [
       "array([[0.61455317],\n",
       "       [0.62361713],\n",
       "       [0.56344802],\n",
       "       [0.69348409],\n",
       "       [0.62297084],\n",
       "       [0.69207034],\n",
       "       [0.68538074],\n",
       "       [0.65494235],\n",
       "       [0.69325905],\n",
       "       [0.65190051],\n",
       "       [0.60711992],\n",
       "       [0.60926169],\n",
       "       [0.61760904],\n",
       "       [0.67396656],\n",
       "       [0.56364096],\n",
       "       [0.66956171],\n",
       "       [0.66015699],\n",
       "       [0.58194688],\n",
       "       [0.59563138],\n",
       "       [0.63610668],\n",
       "       [0.65992791],\n",
       "       [0.69428635],\n",
       "       [0.67090344],\n",
       "       [0.64412731],\n",
       "       [0.68137991],\n",
       "       [0.58465246],\n",
       "       [0.5972317 ],\n",
       "       [0.67900524],\n",
       "       [0.66232126],\n",
       "       [0.59243281],\n",
       "       [0.56416212],\n",
       "       [0.57746614],\n",
       "       [0.5887193 ],\n",
       "       [0.63058906],\n",
       "       [0.58584363],\n",
       "       [0.66578922],\n",
       "       [0.55973707],\n",
       "       [0.61389619],\n",
       "       [0.63610586],\n",
       "       [0.55896291],\n",
       "       [0.64640463],\n",
       "       [0.57998757],\n",
       "       [0.61124012],\n",
       "       [0.65574548],\n",
       "       [0.6728985 ],\n",
       "       [0.64369644],\n",
       "       [0.59137567],\n",
       "       [0.57039652],\n",
       "       [0.56980248],\n",
       "       [0.60260609],\n",
       "       [0.65879943],\n",
       "       [0.55880049],\n",
       "       [0.58753027],\n",
       "       [0.68981359],\n",
       "       [0.68911415],\n",
       "       [0.66769558],\n",
       "       [0.60706288],\n",
       "       [0.63620833],\n",
       "       [0.6689537 ],\n",
       "       [0.65194715],\n",
       "       [0.65297308],\n",
       "       [0.58883714],\n",
       "       [0.58874705],\n",
       "       [0.61606869],\n",
       "       [0.69069194],\n",
       "       [0.69252051],\n",
       "       [0.66843111],\n",
       "       [0.6675868 ],\n",
       "       [0.63942495],\n",
       "       [0.5590487 ],\n",
       "       [0.65045578],\n",
       "       [0.67996817],\n",
       "       [0.66990395],\n",
       "       [0.62633745],\n",
       "       [0.63942939],\n",
       "       [0.63967443],\n",
       "       [0.55893975],\n",
       "       [0.6106981 ],\n",
       "       [0.65092346],\n",
       "       [0.67909309],\n",
       "       [0.61086831],\n",
       "       [0.61956957],\n",
       "       [0.64518316],\n",
       "       [0.64761058],\n",
       "       [0.66582856],\n",
       "       [0.617042  ],\n",
       "       [0.6884969 ],\n",
       "       [0.69251715],\n",
       "       [0.59134793],\n",
       "       [0.66645829],\n",
       "       [0.68697548],\n",
       "       [0.64965327],\n",
       "       [0.65373062],\n",
       "       [0.69022116],\n",
       "       [0.68146583],\n",
       "       [0.6461373 ],\n",
       "       [0.67824368],\n",
       "       [0.57367423],\n",
       "       [0.67151648],\n",
       "       [0.65259281]])"
      ]
     },
     "execution_count": 441,
     "metadata": {},
     "output_type": "execute_result"
    }
   ],
   "source": [
    "Y_hat"
   ]
  },
  {
   "cell_type": "code",
   "execution_count": null,
   "metadata": {},
   "outputs": [],
   "source": []
  }
 ],
 "metadata": {
  "kernelspec": {
   "display_name": "Python 3",
   "language": "python",
   "name": "python3"
  },
  "language_info": {
   "codemirror_mode": {
    "name": "ipython",
    "version": 3
   },
   "file_extension": ".py",
   "mimetype": "text/x-python",
   "name": "python",
   "nbconvert_exporter": "python",
   "pygments_lexer": "ipython3",
   "version": "3.8.1"
  }
 },
 "nbformat": 4,
 "nbformat_minor": 2
}
