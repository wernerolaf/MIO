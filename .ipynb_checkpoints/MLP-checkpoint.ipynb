{
 "cells": [
  {
   "cell_type": "code",
   "execution_count": 2,
   "metadata": {},
   "outputs": [],
   "source": [
    "import numpy as np\n",
    "#import pandas as pd\n",
    "import matplotlib.pyplot as plt"
   ]
  },
  {
   "cell_type": "code",
   "execution_count": 586,
   "metadata": {},
   "outputs": [],
   "source": [
    "class MLP:\n",
    "    def __init__(self, input_layer_len, output_layer_len,hidden_layers_len,activation_function):\n",
    "        self.activation_function = activation_function\n",
    "        self.input_layer = np.zeros((1,input_layer_len))\n",
    "        self.output_layer = np.zeros((1,output_layer_len))\n",
    "        self.weights=[]\n",
    "        \n",
    "        self.weights.append(np.random.random((hidden_layers_len[0],input_layer_len)))\n",
    "        \n",
    "        for i in range(1,len(hidden_layers_len)):\n",
    "            self.weights.append(np.random.random((hidden_layers_len[i],hidden_layers_len[i-1])))\n",
    "            \n",
    "        self.weights.append(np.random.random((output_layer_len,hidden_layers_len[-1])))\n",
    "        \n",
    "        self.biases=[]\n",
    "        \n",
    "        for i in range(len(hidden_layers_len)):\n",
    "            self.biases.append(np.zeros((1,hidden_layers_len[i])))\n",
    "            \n",
    "        \n",
    "        self.biases.append(np.zeros((1,output_layer_len,1)))\n",
    "        \n",
    "        self.hidden_layers=[]\n",
    "        \n",
    "        for i in range(len(hidden_layers_len)):\n",
    "            self.hidden_layers.append(np.zeros((hidden_layers_len[i],1)))\n",
    "        \n",
    "        #self.hidden_layers.append(np.zeros((output_layer_len,1)))\n",
    "        #self.hidden_layers=[mlp.input_layer]+self.hidden_layers\n",
    "        \n",
    "    def calculate(self,input_layer,memory=False):\n",
    "        self.input_layer=input_layer.copy()\n",
    "        \n",
    "        if(memory):\n",
    "            for i in range(len(self.weights)-1):\n",
    "                self.hidden_layers[i]=input_layer.dot(self.weights[i].T)+self.biases[i]\n",
    "                input_layer=self.activation_function(self.hidden_layers[i])\n",
    "                \n",
    "        else:    \n",
    "            for i in range(len(self.weights)-1):\n",
    "                input_layer=self.activation_function(input_layer.dot(self.weights[i].T)+self.biases[i])\n",
    "                \n",
    "                \n",
    "        output_layer=(input_layer.dot(self.weights[-1].T)+self.biases[-1])[0]\n",
    "        self.output_layer=output_layer.copy()\n",
    "        #self.hidden_layers[-1]=output_layer.copy()\n",
    "        \n",
    "        return(output_layer)\n",
    "        \n",
    "    def train(self,input_layer,true_output_layer,rate=0.1):\n",
    "        \n",
    "        #feedforward\n",
    "        output_layer=self.calculate(input_layer,memory=True)\n",
    "        error=sum((true_output_layer-output_layer)**2)/true_output_layer.shape[0]\n",
    "        print(error)\n",
    "        #output error identity function\n",
    "        errors=[0 for i in range(len(self.weights)-1,-1,-1)]\n",
    "        errors[-1]=(true_output_layer-output_layer)*output_layer\n",
    "        for i in range(len(self.weights)-2,-1,-1):\n",
    "            #derivative of sigmoid\n",
    "            errors[i]=weights[i].dot(error.T)*sigmoid(hidden_layers[i])*(1-sigmoid(hidden_layers[i]))\n",
    "        \n",
    "        #gradient descent\n",
    "        for i in range(len(self.weights)-1,-1,-1):\n",
    "            self.weights[i]=self.weights[i]-rate\n",
    "        "
   ]
  },
  {
   "cell_type": "code",
   "execution_count": 4,
   "metadata": {},
   "outputs": [],
   "source": [
    "def sigmoid(x):\n",
    "    return(1/(1 + np.exp(-x)))"
   ]
  },
  {
   "cell_type": "code",
   "execution_count": 5,
   "metadata": {},
   "outputs": [],
   "source": [
    "def sigmoid_derivative(x):\n",
    "    return(sigmoid(x)*(1-sigmoid(x)))"
   ]
  },
  {
   "cell_type": "code",
   "execution_count": 372,
   "metadata": {},
   "outputs": [
    {
     "data": {
      "text/plain": [
       "array([[0.19661193, 0.19661193]])"
      ]
     },
     "execution_count": 372,
     "metadata": {},
     "output_type": "execute_result"
    }
   ],
   "source": [
    "sigmoid_derivative(np.ones((1,2)))"
   ]
  },
  {
   "cell_type": "code",
   "execution_count": 42,
   "metadata": {},
   "outputs": [],
   "source": [
    "test = np.loadtxt(\"mio1/regression/square-simple-training.csv\", delimiter=',', skiprows=1, usecols=range(1,3))"
   ]
  },
  {
   "cell_type": "code",
   "execution_count": 587,
   "metadata": {},
   "outputs": [],
   "source": [
    "X=test[:,0].reshape(-1,1)"
   ]
  },
  {
   "cell_type": "code",
   "execution_count": 588,
   "metadata": {},
   "outputs": [],
   "source": [
    "Y=test[:,1].reshape(-1,1)"
   ]
  },
  {
   "cell_type": "code",
   "execution_count": 49,
   "metadata": {},
   "outputs": [
    {
     "data": {
      "text/plain": [
       "(100, 1)"
      ]
     },
     "execution_count": 49,
     "metadata": {},
     "output_type": "execute_result"
    }
   ],
   "source": [
    "X.shape"
   ]
  },
  {
   "cell_type": "code",
   "execution_count": 700,
   "metadata": {},
   "outputs": [],
   "source": [
    "mlp=MLP(1,1,[3,4,5],sigmoid)\n",
    "\n",
    "input_layer=X\n",
    "\n",
    "true_output_layer=Y\n",
    "\n",
    "rate=0.01"
   ]
  },
  {
   "cell_type": "code",
   "execution_count": null,
   "metadata": {},
   "outputs": [],
   "source": []
  },
  {
   "cell_type": "code",
   "execution_count": 690,
   "metadata": {},
   "outputs": [
    {
     "name": "stdout",
     "output_type": "stream",
     "text": [
      "[10237.29736753]\n"
     ]
    },
    {
     "ename": "ValueError",
     "evalue": "operands could not be broadcast together with shapes (3,1) (5,4) ",
     "output_type": "error",
     "traceback": [
      "\u001b[0;31m---------------------------------------------------------------------------\u001b[0m",
      "\u001b[0;31mValueError\u001b[0m                                Traceback (most recent call last)",
      "\u001b[0;32m<ipython-input-690-7933581b511c>\u001b[0m in \u001b[0;36m<module>\u001b[0;34m\u001b[0m\n\u001b[1;32m     20\u001b[0m     \u001b[0mgradient\u001b[0m\u001b[0;34m=\u001b[0m\u001b[0msum\u001b[0m\u001b[0;34m(\u001b[0m\u001b[0;34m[\u001b[0m\u001b[0mmlp\u001b[0m\u001b[0;34m.\u001b[0m\u001b[0mactivation_function\u001b[0m\u001b[0;34m(\u001b[0m\u001b[0mmlp\u001b[0m\u001b[0;34m.\u001b[0m\u001b[0mhidden_layers\u001b[0m\u001b[0;34m[\u001b[0m\u001b[0;34m-\u001b[0m\u001b[0;36m1\u001b[0m\u001b[0;34m]\u001b[0m\u001b[0;34m[\u001b[0m\u001b[0mx\u001b[0m\u001b[0;34m]\u001b[0m\u001b[0;34m.\u001b[0m\u001b[0mreshape\u001b[0m\u001b[0;34m(\u001b[0m\u001b[0;34m(\u001b[0m\u001b[0;34m-\u001b[0m\u001b[0;36m1\u001b[0m\u001b[0;34m,\u001b[0m\u001b[0;36m1\u001b[0m\u001b[0;34m)\u001b[0m\u001b[0;34m)\u001b[0m\u001b[0;34m)\u001b[0m \u001b[0;32mfor\u001b[0m \u001b[0mx\u001b[0m \u001b[0;32min\u001b[0m \u001b[0mrange\u001b[0m\u001b[0;34m(\u001b[0m\u001b[0moutput_layer\u001b[0m\u001b[0;34m.\u001b[0m\u001b[0mshape\u001b[0m\u001b[0;34m[\u001b[0m\u001b[0;36m0\u001b[0m\u001b[0;34m]\u001b[0m\u001b[0;34m)\u001b[0m\u001b[0;34m]\u001b[0m\u001b[0;34m)\u001b[0m\u001b[0;34m.\u001b[0m\u001b[0mdot\u001b[0m\u001b[0;34m(\u001b[0m\u001b[0merrors\u001b[0m\u001b[0;34m[\u001b[0m\u001b[0mx\u001b[0m\u001b[0;34m]\u001b[0m\u001b[0;34m[\u001b[0m\u001b[0ml\u001b[0m\u001b[0;34m+\u001b[0m\u001b[0;36m1\u001b[0m\u001b[0;34m]\u001b[0m\u001b[0;34m.\u001b[0m\u001b[0mreshape\u001b[0m\u001b[0;34m(\u001b[0m\u001b[0;34m(\u001b[0m\u001b[0;36m1\u001b[0m\u001b[0;34m,\u001b[0m\u001b[0;34m-\u001b[0m\u001b[0;36m1\u001b[0m\u001b[0;34m)\u001b[0m\u001b[0;34m)\u001b[0m\u001b[0;34m)\u001b[0m\u001b[0;34m\u001b[0m\u001b[0;34m\u001b[0m\u001b[0m\n\u001b[1;32m     21\u001b[0m     \u001b[0;31m#print(gradient)\u001b[0m\u001b[0;34m\u001b[0m\u001b[0;34m\u001b[0m\u001b[0;34m\u001b[0m\u001b[0m\n\u001b[0;32m---> 22\u001b[0;31m     \u001b[0mmlp\u001b[0m\u001b[0;34m.\u001b[0m\u001b[0mweights\u001b[0m\u001b[0;34m[\u001b[0m\u001b[0ml\u001b[0m\u001b[0;34m]\u001b[0m\u001b[0;34m=\u001b[0m\u001b[0mmlp\u001b[0m\u001b[0;34m.\u001b[0m\u001b[0mweights\u001b[0m\u001b[0;34m[\u001b[0m\u001b[0ml\u001b[0m\u001b[0;34m]\u001b[0m\u001b[0;34m-\u001b[0m\u001b[0mgradient\u001b[0m\u001b[0;34m*\u001b[0m\u001b[0mrate\u001b[0m\u001b[0;34m/\u001b[0m\u001b[0moutput_layer\u001b[0m\u001b[0;34m.\u001b[0m\u001b[0mshape\u001b[0m\u001b[0;34m[\u001b[0m\u001b[0;36m0\u001b[0m\u001b[0;34m]\u001b[0m\u001b[0;34m\u001b[0m\u001b[0;34m\u001b[0m\u001b[0m\n\u001b[0m\u001b[1;32m     23\u001b[0m     \u001b[0mgradient\u001b[0m\u001b[0;34m=\u001b[0m\u001b[0msum\u001b[0m\u001b[0;34m(\u001b[0m\u001b[0;34m[\u001b[0m\u001b[0merrors\u001b[0m\u001b[0;34m[\u001b[0m\u001b[0mx\u001b[0m\u001b[0;34m]\u001b[0m\u001b[0;34m[\u001b[0m\u001b[0ml\u001b[0m\u001b[0;34m]\u001b[0m\u001b[0;34m.\u001b[0m\u001b[0mreshape\u001b[0m\u001b[0;34m(\u001b[0m\u001b[0;34m(\u001b[0m\u001b[0;36m1\u001b[0m\u001b[0;34m,\u001b[0m\u001b[0;34m-\u001b[0m\u001b[0;36m1\u001b[0m\u001b[0;34m)\u001b[0m\u001b[0;34m)\u001b[0m \u001b[0;32mfor\u001b[0m \u001b[0mx\u001b[0m \u001b[0;32min\u001b[0m \u001b[0mrange\u001b[0m\u001b[0;34m(\u001b[0m\u001b[0moutput_layer\u001b[0m\u001b[0;34m.\u001b[0m\u001b[0mshape\u001b[0m\u001b[0;34m[\u001b[0m\u001b[0;36m0\u001b[0m\u001b[0;34m]\u001b[0m\u001b[0;34m)\u001b[0m\u001b[0;34m]\u001b[0m\u001b[0;34m)\u001b[0m\u001b[0;34m\u001b[0m\u001b[0;34m\u001b[0m\u001b[0m\n\u001b[1;32m     24\u001b[0m \u001b[0;34m\u001b[0m\u001b[0m\n",
      "\u001b[0;31mValueError\u001b[0m: operands could not be broadcast together with shapes (3,1) (5,4) "
     ]
    }
   ],
   "source": [
    "#feedforward\n",
    "output_layer=mlp.calculate(input_layer,memory=True)\n",
    "error=sum((true_output_layer-output_layer)**2)/true_output_layer.shape[0]\n",
    "print(error)\n",
    "\n",
    "old_weights=mlp.weights.copy()\n",
    "\n",
    "\n",
    "#output error identity function\n",
    "errors=[[0]*len(mlp.weights) for x in range(true_output_layer.shape[0])]\n",
    "for x in range(output_layer.shape[0]):\n",
    "    errors[x][-1]=(output_layer[x]-true_output_layer[x].T)*output_layer[x]\n",
    "    \n",
    "    for i in range(len(mlp.weights)-2,-1,-1):     #derivative of sigmoid\n",
    "        errors[x][i]=mlp.weights[i+1].T.dot(errors[x][i+1])*sigmoid_derivative(mlp.hidden_layers[i][x])\n",
    "\n",
    "#gradient\n",
    "#mlp.hidden_layers=[mlp.input_layer]+mlp.hidden_layers\n",
    "for l in range(0,len(mlp.weights)-1):\n",
    "    gradient=sum([mlp.activation_function(mlp.hidden_layers[-1][x].reshape((-1,1))) for x in range(output_layer.shape[0])]).dot(errors[x][l+1].reshape((1,-1)))\n",
    "    #print(gradient)\n",
    "    mlp.weights[l]=mlp.weights[l]-gradient*rate/output_layer.shape[0]\n",
    "    gradient=sum([errors[x][l].reshape((1,-1)) for x in range(output_layer.shape[0])])\n",
    "    \n",
    "    mlp.biases[l]=mlp.biases[l]-gradient*rate/output_layer.shape[0]\n",
    "      \n",
    "\n",
    "#mlp.hidden_layers.pop(0)\n",
    "\n",
    "gradient=sum([errors[x][-1].reshape((-1,1)).dot(mlp.activation_function(mlp.hidden_layers[-1][x].reshape((1,-1)))) for x in range(output_layer.shape[0])])\n",
    "#print(gradient)\n",
    "mlp.weights[-1]=mlp.weights[-1]-gradient*rate/output_layer.shape[-1]\n",
    "gradient=sum([errors[x][-1].reshape((1,-1)) for x in range(output_layer.shape[0])])\n",
    "mlp.biases[-1]=mlp.biases[-1]-gradient*rate/output_layer.shape[0]\n",
    "\n",
    "\n",
    "print([old_weights[x]-mlp.weights[x] for x in range(len(mlp.weights))])\n",
    "\n",
    "\n"
   ]
  },
  {
   "cell_type": "code",
   "execution_count": 691,
   "metadata": {},
   "outputs": [
    {
     "data": {
      "text/plain": [
       "[(3, 1), (4, 3), (5, 4), (1, 5)]"
      ]
     },
     "execution_count": 691,
     "metadata": {},
     "output_type": "execute_result"
    }
   ],
   "source": [
    "[mlp.weights[x].shape for x in range(len(mlp.weights))]"
   ]
  },
  {
   "cell_type": "code",
   "execution_count": 675,
   "metadata": {},
   "outputs": [
    {
     "data": {
      "text/plain": [
       "<matplotlib.collections.PathCollection at 0x7fd174758dc0>"
      ]
     },
     "execution_count": 675,
     "metadata": {},
     "output_type": "execute_result"
    },
    {
     "data": {
      "image/png": "[encoded data removed]",
      "text/plain": [
       "<Figure size 432x288 with 1 Axes>"
      ]
     },
     "metadata": {
      "needs_background": "light"
     },
     "output_type": "display_data"
    }
   ],
   "source": [
    "fig=plt.figure()\n",
    "ax=fig.add_axes([0,0,1,1])\n",
    "ax.scatter(input_layer, true_output_layer, color='r')\n",
    "ax.scatter(input_layer,output_layer,color=\"b\")"
   ]
  },
  {
   "cell_type": "code",
   "execution_count": 696,
   "metadata": {},
   "outputs": [
    {
     "data": {
      "text/plain": [
       "[(3, 1), (4, 1), (5, 1)]"
      ]
     },
     "execution_count": 696,
     "metadata": {},
     "output_type": "execute_result"
    }
   ],
   "source": [
    "[mlp.hidden_layers[x].shape for x in range(3)]"
   ]
  },
  {
   "cell_type": "code",
   "execution_count": 697,
   "metadata": {},
   "outputs": [
    {
     "data": {
      "text/plain": [
       "[(3,), (4,), (5,), (1,)]"
      ]
     },
     "execution_count": 697,
     "metadata": {},
     "output_type": "execute_result"
    }
   ],
   "source": [
    "[errors[0][x].shape for x in range(len(errors[0]))]"
   ]
  },
  {
   "cell_type": "code",
   "execution_count": 698,
   "metadata": {},
   "outputs": [
    {
     "data": {
      "text/plain": [
       "[(3, 1), (4, 3), (5, 4), (1, 5)]"
      ]
     },
     "execution_count": 698,
     "metadata": {},
     "output_type": "execute_result"
    }
   ],
   "source": [
    "[mlp.weights[x].shape for x in range(len(mlp.weights))]"
   ]
  },
  {
   "cell_type": "code",
   "execution_count": 699,
   "metadata": {},
   "outputs": [
    {
     "data": {
      "text/plain": [
       "(1, 1)"
      ]
     },
     "execution_count": 699,
     "metadata": {},
     "output_type": "execute_result"
    }
   ],
   "source": [
    "mlp.output_layer.shape"
   ]
  },
  {
   "cell_type": "code",
   "execution_count": 445,
   "metadata": {},
   "outputs": [
    {
     "data": {
      "text/plain": [
       "array([-1.4813543, -1.4813543, -1.4813543, -1.4813543])"
      ]
     },
     "execution_count": 445,
     "metadata": {},
     "output_type": "execute_result"
    }
   ],
   "source": [
    "#warstwa przyklad neuron\n",
    "mlp.hidden_layers[0][0]"
   ]
  },
  {
   "cell_type": "code",
   "execution_count": 324,
   "metadata": {},
   "outputs": [
    {
     "name": "stdout",
     "output_type": "stream",
     "text": [
      "[[6.68602948e-01]\n",
      " [6.10105933e-01]\n",
      " [3.47440350e-04]\n",
      " ...\n",
      " [6.10151439e-01]\n",
      " [6.10194959e-01]\n",
      " [6.10171751e-01]]\n"
     ]
    }
   ],
   "source": [
    "mlp.train(X,Y)"
   ]
  },
  {
   "cell_type": "code",
   "execution_count": null,
   "metadata": {},
   "outputs": [],
   "source": [
    "pd.read_csv"
   ]
  },
  {
   "cell_type": "code",
   "execution_count": 107,
   "metadata": {},
   "outputs": [],
   "source": [
    "#test=pd.read_csv(\"mio1/regression/steps-large-training.csv\",delimiter=\",\")"
   ]
  },
  {
   "cell_type": "code",
   "execution_count": 38,
   "metadata": {},
   "outputs": [],
   "source": [
    "test = np.loadtxt(\"mio1/regression/square-simple-training.csv\", delimiter=',', skiprows=1, usecols=range(1,3))"
   ]
  },
  {
   "cell_type": "code",
   "execution_count": 40,
   "metadata": {},
   "outputs": [
    {
     "data": {
      "text/plain": [
       "array([[-1.71542658e-01, -1.27351580e+02],\n",
       "       [ 2.52005474e-02, -1.29942844e+02],\n",
       "       [-1.36899138e+00,  3.86723671e+01],\n",
       "       [ 1.90738970e+00,  1.97432191e+02],\n",
       "       [ 1.11293711e-02, -1.29988852e+02],\n",
       "       [ 1.85151809e+00,  1.78530731e+02],\n",
       "       [ 1.60714217e+00,  1.02461536e+02],\n",
       "       [ 7.39925693e-01, -8.07258972e+01],\n",
       "       [ 1.89838314e+00,  1.94347268e+02],\n",
       "       [ 6.65933726e-01, -9.00879046e+01],\n",
       "       [-3.33004761e-01, -1.20019705e+02],\n",
       "       [-2.86381131e-01, -1.22618726e+02],\n",
       "       [-1.05301060e-01, -1.29002052e+02],\n",
       "       [ 1.24642471e+00,  9.82171130e+00],\n",
       "       [-1.36372228e+00,  3.73764614e+01],\n",
       "       [ 1.12078385e+00, -1.69459202e+01],\n",
       "       [ 8.70468906e-01, -6.18055496e+01],\n",
       "       [-9.00574844e-01, -5.70068456e+01],\n",
       "       [-5.86192127e-01, -9.90740912e+01],\n",
       "       [ 3.00445271e-01, -1.21875938e+02],\n",
       "       [ 8.64625461e-01, -6.27180531e+01],\n",
       "       [ 1.93986019e+00,  2.08675181e+02],\n",
       "       [ 1.15840494e+00, -9.22882029e+00],\n",
       "       [ 4.82709484e-01, -1.09029240e+02],\n",
       "       [ 1.47391401e+00,  6.55180271e+01],\n",
       "       [-8.36841226e-01, -6.69727086e+01],\n",
       "       [-5.50496849e-01, -1.02725790e+02],\n",
       "       [ 1.39855470e+00,  4.60359720e+01],\n",
       "       [ 9.26216871e-01, -5.27910076e+01],\n",
       "       [-6.58093411e-01, -9.10221756e+01],\n",
       "       [-1.34953921e+00,  3.39130481e+01],\n",
       "       [-1.00832317e+00, -3.84955945e+01],\n",
       "       [-7.42651047e-01, -8.03622480e+01],\n",
       "       [ 1.77894975e-01, -1.27151804e+02],\n",
       "       [-8.09063802e-01, -7.10874188e+01],\n",
       "       [ 1.01774543e+00, -3.67774812e+01],\n",
       "       [-1.47240341e+00,  6.51174633e+01],\n",
       "       [-1.85785124e-01, -1.26893550e+02],\n",
       "       [ 3.00426979e-01, -1.21876927e+02],\n",
       "       [-1.49450306e+00,  7.10185457e+01],\n",
       "       [ 5.35614009e-01, -1.04180587e+02],\n",
       "       [-9.47331771e-01, -4.92306263e+01],\n",
       "       [-2.43400929e-01, -1.24668039e+02],\n",
       "       [ 7.59711574e-01, -7.80554491e+01],\n",
       "       [ 1.21538177e+00,  2.94375605e+00],\n",
       "       [ 4.72763945e-01, -1.09884483e+02],\n",
       "       [-6.82038105e-01, -8.81341621e+01],\n",
       "       [-1.18506819e+00, -3.60520406e+00],\n",
       "       [-1.20035777e+00, -3.22709564e-01],\n",
       "       [-4.31735707e-01, -1.13224385e+02],\n",
       "       [ 8.35992801e-01, -6.71004432e+01],\n",
       "       [-1.49916386e+00,  7.22743057e+01],\n",
       "       [-7.70005151e-01, -7.66382861e+01],\n",
       "       [ 1.76561945e+00,  1.50567082e+02],\n",
       "       [ 1.73975662e+00,  1.42407779e+02],\n",
       "       [ 1.06933005e+00, -2.70879913e+01],\n",
       "       [-3.34248058e-01, -1.19945041e+02],\n",
       "       [ 3.02721654e-01, -1.21752364e+02],\n",
       "       [ 1.10391126e+00, -2.03241933e+01],\n",
       "       [ 6.67057340e-01, -8.99531054e+01],\n",
       "       [ 6.91858706e-01, -8.69198378e+01],\n",
       "       [-7.39948056e-01, -8.07229187e+01],\n",
       "       [-7.42014412e-01, -8.04473152e+01],\n",
       "       [-1.38692400e-01, -1.28268798e+02],\n",
       "       [ 1.79859492e+00,  1.61144932e+02],\n",
       "       [ 1.86912805e+00,  1.84427569e+02],\n",
       "       [ 1.08949348e+00, -2.31703567e+01],\n",
       "       [ 1.06636067e+00, -2.76587429e+01],\n",
       "       [ 3.75164515e-01, -1.17332643e+02],\n",
       "       [-1.49204462e+00,  7.03577430e+01],\n",
       "       [ 6.31281084e-01, -9.41335774e+01],\n",
       "       [ 1.42880546e+00,  5.37336533e+01],\n",
       "       [ 1.13032897e+00, -1.50120779e+01],\n",
       "       [ 8.45605040e-02, -1.29356457e+02],\n",
       "       [ 3.75264978e-01, -1.17325858e+02],\n",
       "       [ 3.80818434e-01, -1.16947959e+02],\n",
       "       [-1.49516705e+00,  7.11972050e+01],\n",
       "       [-2.55169162e-01, -1.24139983e+02],\n",
       "       [ 6.42465816e-01, -9.28513908e+01],\n",
       "       [ 1.40129746e+00,  4.67271107e+01],\n",
       "       [-2.51473002e-01, -1.24308520e+02],\n",
       "       [-6.27770596e-02, -1.29645314e+02],\n",
       "       [ 5.07165646e-01, -1.06850471e+02],\n",
       "       [ 5.63874062e-01, -1.01384144e+02],\n",
       "       [ 1.01880052e+00, -3.65840944e+01],\n",
       "       [-1.17594342e-01, -1.28755441e+02],\n",
       "       [ 1.71721375e+00,  1.35394076e+02],\n",
       "       [ 1.86899603e+00,  1.84383154e+02],\n",
       "       [-6.82667661e-01, -8.80568379e+01],\n",
       "       [ 1.03574160e+00, -3.34515404e+01],\n",
       "       [ 1.66272084e+00,  1.18817653e+02],\n",
       "       [ 6.12159297e-01, -9.62734896e+01],\n",
       "       [ 7.10275546e-01, -8.45957784e+01],\n",
       "       [ 1.78085047e+00,  1.55428557e+02],\n",
       "       [ 1.47668963e+00,  6.62551030e+01],\n",
       "       [ 5.29373147e-01, -1.04778766e+02],\n",
       "       [ 1.37491373e+00,  4.01348998e+01],\n",
       "       [-1.10198487e+00, -2.07066415e+01],\n",
       "       [ 1.17577716e+00, -5.57932729e+00],\n",
       "       [ 6.82647100e-01, -8.80593643e+01]])"
      ]
     },
     "execution_count": 40,
     "metadata": {},
     "output_type": "execute_result"
    }
   ],
   "source": [
    "test"
   ]
  },
  {
   "cell_type": "code",
   "execution_count": 109,
   "metadata": {},
   "outputs": [],
   "source": [
    "test=test[[\"x\",\"y\"]]"
   ]
  },
  {
   "cell_type": "code",
   "execution_count": 114,
   "metadata": {},
   "outputs": [
    {
     "data": {
      "text/plain": [
       "<matplotlib.axes._subplots.AxesSubplot at 0x7fbccb582e50>"
      ]
     },
     "execution_count": 114,
     "metadata": {},
     "output_type": "execute_result"
    },
    {
     "data": {
      "image/png": "[encoded data removed]",
      "text/plain": [
       "<Figure size 432x288 with 1 Axes>"
      ]
     },
     "metadata": {
      "needs_background": "light"
     },
     "output_type": "display_data"
    }
   ],
   "source": [
    "test.plot.scatter(x=\"x\",y=\"y\")"
   ]
  },
  {
   "cell_type": "code",
   "execution_count": 263,
   "metadata": {},
   "outputs": [],
   "source": [
    "test_mlp=MPL(1,1,[5],sigmoid)"
   ]
  },
  {
   "cell_type": "code",
   "execution_count": 264,
   "metadata": {},
   "outputs": [
    {
     "data": {
      "text/plain": [
       "array([[0.92611473],\n",
       "       [3.68774105],\n",
       "       [2.40454252],\n",
       "       ...,\n",
       "       [3.46152408],\n",
       "       [3.2786449 ],\n",
       "       [3.37272737]])"
      ]
     },
     "execution_count": 264,
     "metadata": {},
     "output_type": "execute_result"
    }
   ],
   "source": [
    "test_mlp.calculate(X)"
   ]
  },
  {
   "cell_type": "code",
   "execution_count": 127,
   "metadata": {},
   "outputs": [],
   "source": [
    "X=np.vstack(test[\"x\"].to_numpy())"
   ]
  },
  {
   "cell_type": "code",
   "execution_count": 177,
   "metadata": {},
   "outputs": [],
   "source": [
    "Y_hat=test_mpl.output_layer"
   ]
  },
  {
   "cell_type": "code",
   "execution_count": 178,
   "metadata": {},
   "outputs": [],
   "source": [
    "Y=np.vstack(test[\"y\"].to_numpy())"
   ]
  },
  {
   "cell_type": "code",
   "execution_count": 179,
   "metadata": {},
   "outputs": [
    {
     "data": {
      "text/plain": [
       "array([70884723.61747867])"
      ]
     },
     "execution_count": 179,
     "metadata": {},
     "output_type": "execute_result"
    }
   ],
   "source": [
    "sum((Y-Y_hat)**2)"
   ]
  },
  {
   "cell_type": "code",
   "execution_count": 193,
   "metadata": {},
   "outputs": [
    {
     "data": {
      "text/plain": [
       "array([[0.79744999, 0.46417824, 0.5293035 , 0.29351545, 0.87100363]])"
      ]
     },
     "execution_count": 193,
     "metadata": {},
     "output_type": "execute_result"
    }
   ],
   "source": [
    "np.random.random((1,5))"
   ]
  },
  {
   "cell_type": "code",
   "execution_count": 246,
   "metadata": {},
   "outputs": [
    {
     "data": {
      "text/plain": [
       "-80"
      ]
     },
     "execution_count": 246,
     "metadata": {},
     "output_type": "execute_result"
    }
   ],
   "source": [
    "Y.min()"
   ]
  },
  {
   "cell_type": "code",
   "execution_count": 243,
   "metadata": {},
   "outputs": [],
   "source": [
    "test_mlp=MPL(1,1,[5],sigmoid)\n",
    "\n",
    "test_mlp.hidden_layers[0]=np.array([[1000,1,1,1,1]])\n",
    "test_mlp.hidden_layers_bias[0]=np.array([[1,1,1,1,1]])\n",
    "\n",
    "\n",
    "test_mlp.calculate(X)\n",
    "Y_hat=test_mlp.output_layer"
   ]
  },
  {
   "cell_type": "code",
   "execution_count": 258,
   "metadata": {},
   "outputs": [
    {
     "data": {
      "text/plain": [
       "<matplotlib.collections.PathCollection at 0x7fbcc6029410>"
      ]
     },
     "execution_count": 258,
     "metadata": {},
     "output_type": "execute_result"
    },
    {
     "data": {
      "image/png": "[encoded data removed]",
      "text/plain": [
       "<Figure size 432x288 with 1 Axes>"
      ]
     },
     "metadata": {
      "needs_background": "light"
     },
     "output_type": "display_data"
    }
   ],
   "source": [
    "fig=plt.figure()\n",
    "ax=fig.add_axes([0,0,1,1])\n",
    "ax.scatter(X, Y, color='r')\n",
    "ax.scatter(X,Y_hat,color=\"b\")"
   ]
  }
 ],
 "metadata": {
  "kernelspec": {
   "display_name": "Python 3",
   "language": "python",
   "name": "python3"
  },
  "language_info": {
   "codemirror_mode": {
    "name": "ipython",
    "version": 3
   },
   "file_extension": ".py",
   "mimetype": "text/x-python",
   "name": "python",
   "nbconvert_exporter": "python",
   "pygments_lexer": "ipython3",
   "version": "3.8.1"
  }
 },
 "nbformat": 4,
 "nbformat_minor": 2
}
