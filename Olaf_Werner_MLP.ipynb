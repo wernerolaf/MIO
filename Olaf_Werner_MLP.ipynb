{
 "cells": [
  {
   "cell_type": "code",
   "execution_count": 73,
   "metadata": {},
   "outputs": [],
   "source": [
    "import numpy as np\n",
    "#import pandas as pd\n",
    "import matplotlib.pyplot as plt"
   ]
  },
  {
   "cell_type": "markdown",
   "metadata": {},
   "source": [
    "# class definition was not changed"
   ]
  },
  {
   "cell_type": "code",
   "execution_count": 74,
   "metadata": {},
   "outputs": [],
   "source": [
    "def sigmoid_derivative(x):\n",
    "    return(sigmoid(x)*(1-sigmoid(x)))"
   ]
  },
  {
   "cell_type": "code",
   "execution_count": 75,
   "metadata": {},
   "outputs": [],
   "source": [
    "def sigmoid(x):\n",
    "    return(1/(1 + np.exp(-x)))"
   ]
  },
  {
   "cell_type": "code",
   "execution_count": 76,
   "metadata": {},
   "outputs": [],
   "source": [
    "class MLP:\n",
    "    def __init__(self, input_layer_len, output_layer_len, hidden_layers_len, activation_function):\n",
    "        \n",
    "        self.activation_function = activation_function\n",
    "        self.input_layer = np.zeros((1,input_layer_len))\n",
    "        self.output_layer = np.zeros((1,output_layer_len))\n",
    "        self.weights=[]\n",
    "        \n",
    "        self.weights.append(np.random.random((hidden_layers_len[0],input_layer_len))*2-1)\n",
    "        \n",
    "        for i in range(1,len(hidden_layers_len)):\n",
    "            self.weights.append(np.random.random((hidden_layers_len[i],hidden_layers_len[i-1]))*2-1)\n",
    "            \n",
    "        self.weights.append(np.random.random((output_layer_len,hidden_layers_len[-1]))*2-1)\n",
    "        \n",
    "        self.biases=[]\n",
    "        \n",
    "        for i in range(len(hidden_layers_len)):\n",
    "            self.biases.append(np.zeros((hidden_layers_len[i],1)))\n",
    "            \n",
    "        \n",
    "        self.biases.append(np.zeros((output_layer_len,1)))\n",
    "        \n",
    "        self.hidden_layers=[]\n",
    "        \n",
    "        for i in range(len(hidden_layers_len)):\n",
    "            self.hidden_layers.append(np.zeros((hidden_layers_len[i],1)))\n",
    "        \n",
    "    \n",
    "        \n",
    "    def calculate(self,input_layer,memory=False):\n",
    "        self.input_layer=input_layer.copy()\n",
    "        \n",
    "        input_layer=input_layer.T\n",
    "        \n",
    "        if(memory):\n",
    "            for i in range(len(self.weights)-1):\n",
    "                \n",
    "                self.hidden_layers[i]=self.weights[i].dot(input_layer)+self.biases[i]\n",
    "                input_layer=self.activation_function(self.hidden_layers[i])\n",
    "                \n",
    "        else:    \n",
    "            for i in range(len(self.weights)-1):\n",
    "                input_layer=self.activation_function(self.weights[i].dot(input_layer)+self.biases[i])\n",
    "                \n",
    "        \n",
    "        #mozliwe ze trzeba reshapy\n",
    "        output_layer=(self.weights[-1].dot(input_layer)+self.biases[-1])\n",
    "        #print(output_layer.shape)\n",
    "        self.output_layer=output_layer.T.copy()\n",
    "        \n",
    "        \n",
    "        return(output_layer.T)\n",
    "        \n",
    "    def train(self,train_input_layer,true_output_layer,rate=0.05,beta=0.8,batch=0.2,stop=10**-6,RMSprop=False,eps=10**-8):\n",
    "        lin=np.linspace(0,train_input_layer.shape[0],int(train_input_layer.shape[0]*batch)).round().astype(int)\n",
    "        output_layer=self.calculate(train_input_layer)\n",
    "        error=sum((true_output_layer-output_layer)**2)\n",
    "        print(error)\n",
    "        iteration=0\n",
    "        old_gradient=[[0]*(len(lin)-1) for x in range(len(self.weights))]\n",
    "        old_gradient_bias=[[0]*(len(lin)-1) for x in range(len(self.weights))]\n",
    "        error_list=[error]\n",
    "\n",
    "        for xd in range(2*10**3):\n",
    "            iteration+=1\n",
    "\n",
    "            for b in range(len(lin)-1):\n",
    "\n",
    "                input_layer=train_input_layer[lin[b]:lin[b+1]]\n",
    "                output_layer=self.calculate(input_layer,memory=True)\n",
    "                batch_size=output_layer.shape[0]\n",
    "                errors=[[0]*len(self.weights) for x in range(batch_size)]\n",
    "\n",
    "                for x in range(batch_size):\n",
    "                    #derivative of x is 1\n",
    "                    errors[x][-1]=((output_layer[x]-true_output_layer[lin[b]:lin[b+1]][x])).reshape(-1,1)\n",
    "\n",
    "                    for i in range(len(self.weights)-2,-1,-1): \n",
    "                        errors[x][i]=self.weights[i+1].T.dot(errors[x][i+1])*sigmoid_derivative(self.hidden_layers[i][:,x:x+1])\n",
    "\n",
    "                for l in range(1,len(self.weights)):\n",
    "\n",
    "                    if(RMSprop):\n",
    "                        new_gradient=sum([errors[x][l].dot(self.activation_function(self.hidden_layers[l-1][:,x:x+1]).T) for x in range(batch_size)])/batch_size\n",
    "                        old_gradient[l][b]=beta*old_gradient[l][b]+(1-beta)*new_gradient**2\n",
    "                        self.weights[l]=self.weights[l]-new_gradient*(rate/(np.sqrt(old_gradient[l][b])+eps))\n",
    "\n",
    "                        new_gradient_bias=sum([errors[x][l] for x in range(batch_size)])/batch_size\n",
    "                        old_gradient_bias[l][b]=beta*old_gradient_bias[l][b]+(1-beta)*new_gradient_bias**2\n",
    "                        self.biases[l]=self.biases[l]-new_gradient_bias*(rate/(np.sqrt(old_gradient_bias[l][b])+eps))\n",
    "                    else:\n",
    "                        new_gradient=sum([errors[x][l].dot(self.activation_function(self.hidden_layers[l-1][:,x:x+1]).T) for x in range(batch_size)])/batch_size\n",
    "                        new_gradient=beta*old_gradient[l][b]+(1-beta)*new_gradient\n",
    "                        old_gradient[l][b]=new_gradient\n",
    "                        self.weights[l]=self.weights[l]-new_gradient*rate\n",
    "\n",
    "                        new_gradient_bias=sum([errors[x][l] for x in range(batch_size)])/batch_size\n",
    "                        new_gradient_bias=beta*old_gradient_bias[l][b]+(1-beta)*new_gradient_bias\n",
    "                        old_gradient_bias[l][b]=new_gradient_bias\n",
    "                        self.biases[l]=self.biases[l]-new_gradient_bias*rate\n",
    "\n",
    "                if(RMSprop):\n",
    "                    new_gradient=sum([errors[x][0].dot((self.input_layer.T[:,x:x+1]).T) for x in range(batch_size)])/batch_size\n",
    "                    old_gradient[0][b]=beta*old_gradient[0][b]+(1-beta)*new_gradient**2\n",
    "                    self.weights[0]=self.weights[0]-new_gradient*(rate/(np.sqrt(old_gradient[0][b])+eps))\n",
    "\n",
    "                    new_gradient_bias=sum([errors[x][0] for x in range(batch_size)])/batch_size\n",
    "                    old_gradient_bias[0][b]=beta*old_gradient_bias[0][b]+(1-beta)*new_gradient_bias**2\n",
    "                    self.biases[0]=self.biases[0]-new_gradient_bias*(rate/(np.sqrt(old_gradient_bias[0][b])+eps))\n",
    "                else:\n",
    "                    new_gradient=sum([errors[x][0].dot((self.input_layer.T[:,x:x+1]).T) for x in range(batch_size)])/batch_size\n",
    "                    new_gradient=beta*old_gradient[0][b]+(1-beta)*new_gradient\n",
    "                    old_gradient[0][b]=new_gradient\n",
    "                    self.weights[0]=self.weights[0]-new_gradient*rate\n",
    "\n",
    "                    new_gradient_bias=sum([errors[x][0] for x in range(batch_size)])/batch_size\n",
    "                    new_gradient_bias=beta*old_gradient_bias[0][b]+(1-beta)*new_gradient_bias\n",
    "                    old_gradient_bias[0][b]=new_gradient_bias\n",
    "                    self.biases[0]=self.biases[0]-new_gradient_bias*rate\n",
    "\n",
    "\n",
    "            output_layer=self.calculate(train_input_layer)\n",
    "            new_error=sum((true_output_layer-output_layer)**2)\n",
    "            error_list.append(new_error)\n",
    "\n",
    "            if(iteration % 1000 == 0):\n",
    "                print(iteration)\n",
    "\n",
    "            if (abs(new_error-error)/error)<stop:\n",
    "                #print((new_error-error)/error)\n",
    "                #print(iteration)\n",
    "                break\n",
    "\n",
    "            error=new_error\n",
    "        \n",
    "        print(iteration)\n",
    "        print(error)\n",
    "        return error_list"
   ]
  },
  {
   "cell_type": "code",
   "execution_count": 7,
   "metadata": {},
   "outputs": [],
   "source": [
    "test = np.loadtxt(\"mio1/regression/square-simple-training.csv\", delimiter=',', skiprows=1, usecols=range(1,3))\n",
    "\n",
    "X=test[:,0].reshape(-1,1)\n",
    "\n",
    "Y=test[:,1].reshape(-1,1)"
   ]
  },
  {
   "cell_type": "code",
   "execution_count": 58,
   "metadata": {},
   "outputs": [],
   "source": [
    "X=np.concatenate((X,3*X-2),axis=1)"
   ]
  },
  {
   "cell_type": "code",
   "execution_count": 59,
   "metadata": {},
   "outputs": [],
   "source": [
    "Y=np.concatenate((Y,2*Y+1),axis=1)"
   ]
  },
  {
   "cell_type": "code",
   "execution_count": 189,
   "metadata": {},
   "outputs": [],
   "source": [
    "mlp=MLP(1,1,[15,17,19],sigmoid)\n",
    "\n",
    "train_input_layer=(X-X.mean())/X.std()\n",
    "\n",
    "true_output_layer=(Y-Y.mean())/Y.std()\n",
    "\n",
    "rate=0.08\n",
    "\n",
    "beta=0.8\n",
    "\n",
    "batch=0.2\n",
    "\n",
    "stop=10**-6\n",
    "\n",
    "RMSprop=True\n",
    "\n",
    "eps=10**-8"
   ]
  },
  {
   "cell_type": "markdown",
   "metadata": {},
   "source": [
    "# Space for debugging"
   ]
  },
  {
   "cell_type": "code",
   "execution_count": null,
   "metadata": {},
   "outputs": [],
   "source": [
    "lin=np.linspace(0,train_input_layer.shape[0],int(train_input_layer.shape[0]*batch)).round().astype(int)\n",
    "output_layer=mlp.calculate(train_input_layer)\n",
    "error=sum((true_output_layer-output_layer)**2)\n",
    "iteration=0\n",
    "old_gradient=[[0]*(len(lin)-1) for x in range(len(mlp.weights))]\n",
    "old_gradient_bias=[[0]*(len(lin)-1) for x in range(len(mlp.weights))]\n",
    "error_list=[error]\n",
    "\n",
    "for xd in range(1*10**1):\n",
    "    iteration+=1\n",
    "    \n",
    "    for b in range(len(lin)-1):\n",
    "        \n",
    "        input_layer=train_input_layer[lin[b]:lin[b+1]]\n",
    "        output_layer=mlp.calculate(input_layer,memory=True)\n",
    "        batch_size=output_layer.shape[0]\n",
    "        errors=[[0]*len(mlp.weights) for x in range(batch_size)]\n",
    "\n",
    "        for x in range(batch_size):\n",
    "            #derivative of x is 1\n",
    "            errors[x][-1]=((output_layer[x]-true_output_layer[lin[b]:lin[b+1]][x])).reshape(-1,1)\n",
    "\n",
    "            for i in range(len(mlp.weights)-2,-1,-1): \n",
    "                errors[x][i]=mlp.weights[i+1].T.dot(errors[x][i+1])*sigmoid_derivative(mlp.hidden_layers[i][:,x:x+1])\n",
    "\n",
    "        for l in range(1,len(mlp.weights)):\n",
    "\n",
    "            if(RMSprop):\n",
    "                new_gradient=sum([errors[x][l].dot(mlp.activation_function(mlp.hidden_layers[l-1][:,x:x+1]).T) for x in range(batch_size)])/batch_size\n",
    "                old_gradient[l][b]=beta*old_gradient[l][b]+(1-beta)*new_gradient**2\n",
    "                mlp.weights[l]=mlp.weights[l]-new_gradient*(rate/(np.sqrt(old_gradient[l][b])+eps))\n",
    "                \n",
    "                new_gradient_bias=sum([errors[x][l] for x in range(batch_size)])/batch_size\n",
    "                old_gradient_bias[l][b]=beta*old_gradient_bias[l][b]+(1-beta)*new_gradient_bias**2\n",
    "                mlp.biases[l]=mlp.biases[l]-new_gradient_bias*(rate/(np.sqrt(old_gradient_bias[l][b])+eps))\n",
    "            else:\n",
    "                new_gradient=sum([errors[x][l].dot(mlp.activation_function(mlp.hidden_layers[l-1][:,x:x+1]).T) for x in range(batch_size)])/batch_size\n",
    "                new_gradient=beta*old_gradient[l][b]+(1-beta)*new_gradient\n",
    "                old_gradient[l][b]=new_gradient\n",
    "                mlp.weights[l]=mlp.weights[l]-new_gradient*rate\n",
    "\n",
    "                new_gradient_bias=sum([errors[x][l] for x in range(batch_size)])/batch_size\n",
    "                new_gradient_bias=beta*old_gradient_bias[l][b]+(1-beta)*new_gradient_bias\n",
    "                old_gradient_bias[l][b]=new_gradient_bias\n",
    "                mlp.biases[l]=mlp.biases[l]-new_gradient_bias*rate\n",
    "\n",
    "        if(RMSprop):\n",
    "            new_gradient=sum([errors[x][0].dot((mlp.input_layer.T[:,x:x+1]).T) for x in range(batch_size)])/batch_size\n",
    "            old_gradient[0][b]=beta*old_gradient[0][b]+(1-beta)*new_gradient**2\n",
    "            mlp.weights[0]=mlp.weights[0]-new_gradient*(rate/(np.sqrt(old_gradient[0][b])+eps))\n",
    "            \n",
    "            new_gradient_bias=sum([errors[x][0] for x in range(batch_size)])/batch_size\n",
    "            old_gradient_bias[0][b]=beta*old_gradient_bias[0][b]+(1-beta)*new_gradient_bias**2\n",
    "            mlp.biases[0]=mlp.biases[0]-new_gradient_bias*(rate/(np.sqrt(old_gradient_bias[0][b])+eps))\n",
    "            print((np.sqrt(old_gradient_bias[0][b])+eps))\n",
    "        else:\n",
    "            new_gradient=sum([errors[x][0].dot((mlp.input_layer.T[:,x:x+1]).T) for x in range(batch_size)])/batch_size\n",
    "            new_gradient=beta*old_gradient[0][b]+(1-beta)*new_gradient\n",
    "            old_gradient[0][b]=new_gradient\n",
    "            mlp.weights[0]=mlp.weights[0]-new_gradient*rate\n",
    "\n",
    "            new_gradient_bias=sum([errors[x][0] for x in range(batch_size)])/batch_size\n",
    "            new_gradient_bias=beta*old_gradient_bias[0][b]+(1-beta)*new_gradient_bias\n",
    "            old_gradient_bias[0][b]=new_gradient_bias\n",
    "            mlp.biases[0]=mlp.biases[0]-new_gradient_bias*rate\n",
    "        \n",
    "        \n",
    "    output_layer=mlp.calculate(train_input_layer)\n",
    "    new_error=sum((true_output_layer-output_layer)**2)\n",
    "    error_list.append(new_error)\n",
    "    \n",
    "    if(iteration % 1000 == 0):\n",
    "        print(iteration)\n",
    "    \n",
    "    if (abs(new_error-error)/error)<stop:\n",
    "        print((new_error-error)/error)\n",
    "        print(iteration)\n",
    "        break\n",
    "    \n",
    "    error=new_error"
   ]
  },
  {
   "cell_type": "markdown",
   "metadata": {},
   "source": [
    "# RUN THIS"
   ]
  },
  {
   "cell_type": "code",
   "execution_count": 77,
   "metadata": {},
   "outputs": [],
   "source": [
    "#square large\n",
    "mlp_start=MLP(1,1,[10,8,12],sigmoid)\n",
    "\n",
    "test = np.loadtxt(\"mio1/regression/square-large-training.csv\", delimiter=',', skiprows=1,usecols=range(1,3))\n",
    "\n",
    "X=test[:,0].reshape(-1,1)\n",
    "\n",
    "Y=test[:,1].reshape(-1,1)\n",
    "\n",
    "train_input_layer=(X-X.mean())/X.std()\n",
    "\n",
    "true_output_layer=(Y-Y.mean())/Y.std()"
   ]
  },
  {
   "cell_type": "code",
   "execution_count": 78,
   "metadata": {},
   "outputs": [],
   "source": [
    "#multimodal-large\n",
    "mlp_start=MLP(1,1,[10,8,12],sigmoid)\n",
    "\n",
    "test = np.loadtxt(\"mio1/regression/multimodal-large-training.csv\", delimiter=',', skiprows=1, usecols=range(1,3))\n",
    "\n",
    "X=test[:,0].reshape(-1,1)\n",
    "\n",
    "Y=test[:,1].reshape(-1,1)\n",
    "\n",
    "train_input_layer=(X-X.mean())/X.std()\n",
    "\n",
    "true_output_layer=(Y-Y.mean())/Y.std()"
   ]
  },
  {
   "cell_type": "code",
   "execution_count": 61,
   "metadata": {},
   "outputs": [],
   "source": [
    "#steps-large\n",
    "mlp_start=MLP(1,1,[10,8,12],sigmoid)\n",
    "\n",
    "test = np.loadtxt(\"mio1/regression/steps-large-training.csv\", delimiter=',', skiprows=1, usecols=range(1,3))\n",
    "\n",
    "X=test[:,0].reshape(-1,1)\n",
    "\n",
    "Y=test[:,1].reshape(-1,1)\n",
    "\n",
    "train_input_layer=(X-X.mean())/X.std()\n",
    "\n",
    "true_output_layer=(Y-Y.mean())/Y.std()"
   ]
  },
  {
   "cell_type": "code",
   "execution_count": 79,
   "metadata": {},
   "outputs": [],
   "source": [
    "mlp_vanilla=MLP(1,1,[10,8,12],sigmoid)\n",
    "mlp_vanilla.weights=mlp_start.weights.copy()\n",
    "mlp_vanilla.biases=mlp_start.biases.copy()"
   ]
  },
  {
   "cell_type": "code",
   "execution_count": 80,
   "metadata": {},
   "outputs": [],
   "source": [
    "mlp_vanilla_batch=MLP(1,1,[10,8,12],sigmoid)\n",
    "mlp_vanilla_batch.weights=mlp_start.weights.copy()\n",
    "mlp_vanilla_batch.biases=mlp_start.biases.copy()"
   ]
  },
  {
   "cell_type": "code",
   "execution_count": 81,
   "metadata": {},
   "outputs": [],
   "source": [
    "mlp_RMS=MLP(1,1,[10,8,12],sigmoid)\n",
    "mlp_RMS.weights=mlp_start.weights.copy()\n",
    "mlp_RMS.biases=mlp_start.biases.copy()"
   ]
  },
  {
   "cell_type": "code",
   "execution_count": 82,
   "metadata": {},
   "outputs": [],
   "source": [
    "mlp_momentum=MLP(1,1,[10,8,12],sigmoid)\n",
    "mlp_momentum.weights=mlp_start.weights.copy()\n",
    "mlp_momentum.biases=mlp_start.biases.copy()"
   ]
  },
  {
   "cell_type": "code",
   "execution_count": 84,
   "metadata": {},
   "outputs": [
    {
     "name": "stdout",
     "output_type": "stream",
     "text": [
      "[737.37803402]\n"
     ]
    },
    {
     "ename": "KeyboardInterrupt",
     "evalue": "",
     "output_type": "error",
     "traceback": [
      "\u001b[0;31m---------------------------------------------------------------------------\u001b[0m",
      "\u001b[0;31mKeyboardInterrupt\u001b[0m                         Traceback (most recent call last)",
      "\u001b[0;32m<ipython-input-84-a0076f491f11>\u001b[0m in \u001b[0;36m<module>\u001b[0;34m\u001b[0m\n\u001b[0;32m----> 1\u001b[0;31m \u001b[0merror_momentum\u001b[0m\u001b[0;34m=\u001b[0m\u001b[0mmlp_momentum\u001b[0m\u001b[0;34m.\u001b[0m\u001b[0mtrain\u001b[0m\u001b[0;34m(\u001b[0m\u001b[0mtrain_input_layer\u001b[0m\u001b[0;34m,\u001b[0m\u001b[0mtrue_output_layer\u001b[0m\u001b[0;34m,\u001b[0m\u001b[0mbatch\u001b[0m\u001b[0;34m=\u001b[0m\u001b[0;36m0.1\u001b[0m\u001b[0;34m)\u001b[0m\u001b[0;34m\u001b[0m\u001b[0;34m\u001b[0m\u001b[0m\n\u001b[0m",
      "\u001b[0;32m<ipython-input-76-8c27fb353211>\u001b[0m in \u001b[0;36mtrain\u001b[0;34m(self, train_input_layer, true_output_layer, rate, beta, batch, stop, RMSprop, eps)\u001b[0m\n\u001b[1;32m     78\u001b[0m \u001b[0;34m\u001b[0m\u001b[0m\n\u001b[1;32m     79\u001b[0m                     \u001b[0;32mfor\u001b[0m \u001b[0mi\u001b[0m \u001b[0;32min\u001b[0m \u001b[0mrange\u001b[0m\u001b[0;34m(\u001b[0m\u001b[0mlen\u001b[0m\u001b[0;34m(\u001b[0m\u001b[0mself\u001b[0m\u001b[0;34m.\u001b[0m\u001b[0mweights\u001b[0m\u001b[0;34m)\u001b[0m\u001b[0;34m-\u001b[0m\u001b[0;36m2\u001b[0m\u001b[0;34m,\u001b[0m\u001b[0;34m-\u001b[0m\u001b[0;36m1\u001b[0m\u001b[0;34m,\u001b[0m\u001b[0;34m-\u001b[0m\u001b[0;36m1\u001b[0m\u001b[0;34m)\u001b[0m\u001b[0;34m:\u001b[0m\u001b[0;34m\u001b[0m\u001b[0;34m\u001b[0m\u001b[0m\n\u001b[0;32m---> 80\u001b[0;31m                         \u001b[0merrors\u001b[0m\u001b[0;34m[\u001b[0m\u001b[0mx\u001b[0m\u001b[0;34m]\u001b[0m\u001b[0;34m[\u001b[0m\u001b[0mi\u001b[0m\u001b[0;34m]\u001b[0m\u001b[0;34m=\u001b[0m\u001b[0mself\u001b[0m\u001b[0;34m.\u001b[0m\u001b[0mweights\u001b[0m\u001b[0;34m[\u001b[0m\u001b[0mi\u001b[0m\u001b[0;34m+\u001b[0m\u001b[0;36m1\u001b[0m\u001b[0;34m]\u001b[0m\u001b[0;34m.\u001b[0m\u001b[0mT\u001b[0m\u001b[0;34m.\u001b[0m\u001b[0mdot\u001b[0m\u001b[0;34m(\u001b[0m\u001b[0merrors\u001b[0m\u001b[0;34m[\u001b[0m\u001b[0mx\u001b[0m\u001b[0;34m]\u001b[0m\u001b[0;34m[\u001b[0m\u001b[0mi\u001b[0m\u001b[0;34m+\u001b[0m\u001b[0;36m1\u001b[0m\u001b[0;34m]\u001b[0m\u001b[0;34m)\u001b[0m\u001b[0;34m*\u001b[0m\u001b[0msigmoid_derivative\u001b[0m\u001b[0;34m(\u001b[0m\u001b[0mself\u001b[0m\u001b[0;34m.\u001b[0m\u001b[0mhidden_layers\u001b[0m\u001b[0;34m[\u001b[0m\u001b[0mi\u001b[0m\u001b[0;34m]\u001b[0m\u001b[0;34m[\u001b[0m\u001b[0;34m:\u001b[0m\u001b[0;34m,\u001b[0m\u001b[0mx\u001b[0m\u001b[0;34m:\u001b[0m\u001b[0mx\u001b[0m\u001b[0;34m+\u001b[0m\u001b[0;36m1\u001b[0m\u001b[0;34m]\u001b[0m\u001b[0;34m)\u001b[0m\u001b[0;34m\u001b[0m\u001b[0;34m\u001b[0m\u001b[0m\n\u001b[0m\u001b[1;32m     81\u001b[0m \u001b[0;34m\u001b[0m\u001b[0m\n\u001b[1;32m     82\u001b[0m                 \u001b[0;32mfor\u001b[0m \u001b[0ml\u001b[0m \u001b[0;32min\u001b[0m \u001b[0mrange\u001b[0m\u001b[0;34m(\u001b[0m\u001b[0;36m1\u001b[0m\u001b[0;34m,\u001b[0m\u001b[0mlen\u001b[0m\u001b[0;34m(\u001b[0m\u001b[0mself\u001b[0m\u001b[0;34m.\u001b[0m\u001b[0mweights\u001b[0m\u001b[0;34m)\u001b[0m\u001b[0;34m)\u001b[0m\u001b[0;34m:\u001b[0m\u001b[0;34m\u001b[0m\u001b[0;34m\u001b[0m\u001b[0m\n",
      "\u001b[0;31mKeyboardInterrupt\u001b[0m: "
     ]
    }
   ],
   "source": [
    "error_momentum=mlp_momentum.train(train_input_layer,true_output_layer,batch=0.1)"
   ]
  },
  {
   "cell_type": "code",
   "execution_count": 18,
   "metadata": {},
   "outputs": [
    {
     "name": "stdout",
     "output_type": "stream",
     "text": [
      "[214.80715548]\n",
      "1000\n",
      "2000\n",
      "2000\n",
      "[0.03706813]\n"
     ]
    }
   ],
   "source": [
    "error_vanilla_batch=mlp_vanilla_batch.train(train_input_layer,true_output_layer,beta=0)"
   ]
  },
  {
   "cell_type": "code",
   "execution_count": 19,
   "metadata": {},
   "outputs": [
    {
     "name": "stdout",
     "output_type": "stream",
     "text": [
      "[214.80715548]\n",
      "1000\n",
      "2000\n",
      "2000\n",
      "[0.0089865]\n"
     ]
    }
   ],
   "source": [
    "error_vanilla=mlp_vanilla.train(train_input_layer,true_output_layer,batch=1,beta=0)"
   ]
  },
  {
   "cell_type": "code",
   "execution_count": 70,
   "metadata": {},
   "outputs": [
    {
     "name": "stdout",
     "output_type": "stream",
     "text": [
      "[575.67652086]\n"
     ]
    },
    {
     "ename": "KeyboardInterrupt",
     "evalue": "",
     "output_type": "error",
     "traceback": [
      "\u001b[0;31m---------------------------------------------------------------------------\u001b[0m",
      "\u001b[0;31mKeyboardInterrupt\u001b[0m                         Traceback (most recent call last)",
      "\u001b[0;32m<ipython-input-70-22a5cbc555da>\u001b[0m in \u001b[0;36m<module>\u001b[0;34m\u001b[0m\n\u001b[0;32m----> 1\u001b[0;31m \u001b[0merror_RMS\u001b[0m\u001b[0;34m=\u001b[0m\u001b[0mmlp_RMS\u001b[0m\u001b[0;34m.\u001b[0m\u001b[0mtrain\u001b[0m\u001b[0;34m(\u001b[0m\u001b[0mtrain_input_layer\u001b[0m\u001b[0;34m,\u001b[0m\u001b[0mtrue_output_layer\u001b[0m\u001b[0;34m,\u001b[0m\u001b[0mRMSprop\u001b[0m\u001b[0;34m=\u001b[0m\u001b[0;32mTrue\u001b[0m\u001b[0;34m,\u001b[0m\u001b[0mbeta\u001b[0m\u001b[0;34m=\u001b[0m\u001b[0;36m0.999\u001b[0m\u001b[0;34m,\u001b[0m\u001b[0mbatch\u001b[0m\u001b[0;34m=\u001b[0m\u001b[0;36m0.1\u001b[0m\u001b[0;34m,\u001b[0m\u001b[0meps\u001b[0m\u001b[0;34m=\u001b[0m\u001b[0;36m10\u001b[0m\u001b[0;34m**\u001b[0m\u001b[0;34m-\u001b[0m\u001b[0;36m8\u001b[0m\u001b[0;34m,\u001b[0m\u001b[0mrate\u001b[0m\u001b[0;34m=\u001b[0m\u001b[0;36m0.001\u001b[0m\u001b[0;34m)\u001b[0m\u001b[0;34m\u001b[0m\u001b[0;34m\u001b[0m\u001b[0m\n\u001b[0m",
      "\u001b[0;32m<ipython-input-7-8c27fb353211>\u001b[0m in \u001b[0;36mtrain\u001b[0;34m(self, train_input_layer, true_output_layer, rate, beta, batch, stop, RMSprop, eps)\u001b[0m\n\u001b[1;32m     78\u001b[0m \u001b[0;34m\u001b[0m\u001b[0m\n\u001b[1;32m     79\u001b[0m                     \u001b[0;32mfor\u001b[0m \u001b[0mi\u001b[0m \u001b[0;32min\u001b[0m \u001b[0mrange\u001b[0m\u001b[0;34m(\u001b[0m\u001b[0mlen\u001b[0m\u001b[0;34m(\u001b[0m\u001b[0mself\u001b[0m\u001b[0;34m.\u001b[0m\u001b[0mweights\u001b[0m\u001b[0;34m)\u001b[0m\u001b[0;34m-\u001b[0m\u001b[0;36m2\u001b[0m\u001b[0;34m,\u001b[0m\u001b[0;34m-\u001b[0m\u001b[0;36m1\u001b[0m\u001b[0;34m,\u001b[0m\u001b[0;34m-\u001b[0m\u001b[0;36m1\u001b[0m\u001b[0;34m)\u001b[0m\u001b[0;34m:\u001b[0m\u001b[0;34m\u001b[0m\u001b[0;34m\u001b[0m\u001b[0m\n\u001b[0;32m---> 80\u001b[0;31m                         \u001b[0merrors\u001b[0m\u001b[0;34m[\u001b[0m\u001b[0mx\u001b[0m\u001b[0;34m]\u001b[0m\u001b[0;34m[\u001b[0m\u001b[0mi\u001b[0m\u001b[0;34m]\u001b[0m\u001b[0;34m=\u001b[0m\u001b[0mself\u001b[0m\u001b[0;34m.\u001b[0m\u001b[0mweights\u001b[0m\u001b[0;34m[\u001b[0m\u001b[0mi\u001b[0m\u001b[0;34m+\u001b[0m\u001b[0;36m1\u001b[0m\u001b[0;34m]\u001b[0m\u001b[0;34m.\u001b[0m\u001b[0mT\u001b[0m\u001b[0;34m.\u001b[0m\u001b[0mdot\u001b[0m\u001b[0;34m(\u001b[0m\u001b[0merrors\u001b[0m\u001b[0;34m[\u001b[0m\u001b[0mx\u001b[0m\u001b[0;34m]\u001b[0m\u001b[0;34m[\u001b[0m\u001b[0mi\u001b[0m\u001b[0;34m+\u001b[0m\u001b[0;36m1\u001b[0m\u001b[0;34m]\u001b[0m\u001b[0;34m)\u001b[0m\u001b[0;34m*\u001b[0m\u001b[0msigmoid_derivative\u001b[0m\u001b[0;34m(\u001b[0m\u001b[0mself\u001b[0m\u001b[0;34m.\u001b[0m\u001b[0mhidden_layers\u001b[0m\u001b[0;34m[\u001b[0m\u001b[0mi\u001b[0m\u001b[0;34m]\u001b[0m\u001b[0;34m[\u001b[0m\u001b[0;34m:\u001b[0m\u001b[0;34m,\u001b[0m\u001b[0mx\u001b[0m\u001b[0;34m:\u001b[0m\u001b[0mx\u001b[0m\u001b[0;34m+\u001b[0m\u001b[0;36m1\u001b[0m\u001b[0;34m]\u001b[0m\u001b[0;34m)\u001b[0m\u001b[0;34m\u001b[0m\u001b[0;34m\u001b[0m\u001b[0m\n\u001b[0m\u001b[1;32m     81\u001b[0m \u001b[0;34m\u001b[0m\u001b[0m\n\u001b[1;32m     82\u001b[0m                 \u001b[0;32mfor\u001b[0m \u001b[0ml\u001b[0m \u001b[0;32min\u001b[0m \u001b[0mrange\u001b[0m\u001b[0;34m(\u001b[0m\u001b[0;36m1\u001b[0m\u001b[0;34m,\u001b[0m\u001b[0mlen\u001b[0m\u001b[0;34m(\u001b[0m\u001b[0mself\u001b[0m\u001b[0;34m.\u001b[0m\u001b[0mweights\u001b[0m\u001b[0;34m)\u001b[0m\u001b[0;34m)\u001b[0m\u001b[0;34m:\u001b[0m\u001b[0;34m\u001b[0m\u001b[0;34m\u001b[0m\u001b[0m\n",
      "\u001b[0;32m<ipython-input-5-f19e554174e1>\u001b[0m in \u001b[0;36msigmoid_derivative\u001b[0;34m(x)\u001b[0m\n\u001b[1;32m      1\u001b[0m \u001b[0;32mdef\u001b[0m \u001b[0msigmoid_derivative\u001b[0m\u001b[0;34m(\u001b[0m\u001b[0mx\u001b[0m\u001b[0;34m)\u001b[0m\u001b[0;34m:\u001b[0m\u001b[0;34m\u001b[0m\u001b[0;34m\u001b[0m\u001b[0m\n\u001b[0;32m----> 2\u001b[0;31m     \u001b[0;32mreturn\u001b[0m\u001b[0;34m(\u001b[0m\u001b[0msigmoid\u001b[0m\u001b[0;34m(\u001b[0m\u001b[0mx\u001b[0m\u001b[0;34m)\u001b[0m\u001b[0;34m*\u001b[0m\u001b[0;34m(\u001b[0m\u001b[0;36m1\u001b[0m\u001b[0;34m-\u001b[0m\u001b[0msigmoid\u001b[0m\u001b[0;34m(\u001b[0m\u001b[0mx\u001b[0m\u001b[0;34m)\u001b[0m\u001b[0;34m)\u001b[0m\u001b[0;34m)\u001b[0m\u001b[0;34m\u001b[0m\u001b[0;34m\u001b[0m\u001b[0m\n\u001b[0m",
      "\u001b[0;32m<ipython-input-6-a3601a29eef2>\u001b[0m in \u001b[0;36msigmoid\u001b[0;34m(x)\u001b[0m\n\u001b[1;32m      1\u001b[0m \u001b[0;32mdef\u001b[0m \u001b[0msigmoid\u001b[0m\u001b[0;34m(\u001b[0m\u001b[0mx\u001b[0m\u001b[0;34m)\u001b[0m\u001b[0;34m:\u001b[0m\u001b[0;34m\u001b[0m\u001b[0;34m\u001b[0m\u001b[0m\n\u001b[0;32m----> 2\u001b[0;31m     \u001b[0;32mreturn\u001b[0m\u001b[0;34m(\u001b[0m\u001b[0;36m1\u001b[0m\u001b[0;34m/\u001b[0m\u001b[0;34m(\u001b[0m\u001b[0;36m1\u001b[0m \u001b[0;34m+\u001b[0m \u001b[0mnp\u001b[0m\u001b[0;34m.\u001b[0m\u001b[0mexp\u001b[0m\u001b[0;34m(\u001b[0m\u001b[0;34m-\u001b[0m\u001b[0mx\u001b[0m\u001b[0;34m)\u001b[0m\u001b[0;34m)\u001b[0m\u001b[0;34m)\u001b[0m\u001b[0;34m\u001b[0m\u001b[0;34m\u001b[0m\u001b[0m\n\u001b[0m",
      "\u001b[0;31mKeyboardInterrupt\u001b[0m: "
     ]
    }
   ],
   "source": [
    "error_RMS=mlp_RMS.train(train_input_layer,true_output_layer,RMSprop=True,beta=0.999,batch=0.1,eps=10**-8,rate=0.001)"
   ]
  },
  {
   "cell_type": "code",
   "execution_count": 85,
   "metadata": {},
   "outputs": [
    {
     "data": {
      "text/plain": [
       "<matplotlib.collections.PathCollection at 0x7f7183cdcc90>"
      ]
     },
     "execution_count": 85,
     "metadata": {},
     "output_type": "execute_result"
    },
    {
     "data": {
      "image/png": "[encoded data removed]",
      "text/plain": [
       "<Figure size 432x288 with 1 Axes>"
      ]
     },
     "metadata": {
      "needs_background": "light"
     },
     "output_type": "display_data"
    }
   ],
   "source": [
    "output_layer=mlp_momentum.calculate(train_input_layer)\n",
    "fig=plt.figure()\n",
    "ax=fig.add_axes([0,0,1,1])\n",
    "ax.scatter(train_input_layer, true_output_layer, color='r')\n",
    "ax.scatter(train_input_layer,output_layer,color=\"b\")"
   ]
  },
  {
   "cell_type": "code",
   "execution_count": 71,
   "metadata": {},
   "outputs": [
    {
     "data": {
      "text/plain": [
       "<matplotlib.collections.PathCollection at 0x7f71849b5790>"
      ]
     },
     "execution_count": 71,
     "metadata": {},
     "output_type": "execute_result"
    },
    {
     "data": {
      "image/png": "[encoded data removed]",
      "text/plain": [
       "<Figure size 432x288 with 1 Axes>"
      ]
     },
     "metadata": {
      "needs_background": "light"
     },
     "output_type": "display_data"
    }
   ],
   "source": [
    "output_layer=mlp_RMS.calculate(train_input_layer)\n",
    "fig=plt.figure()\n",
    "ax=fig.add_axes([0,0,1,1])\n",
    "ax.scatter(train_input_layer, true_output_layer, color='r')\n",
    "ax.scatter(train_input_layer,output_layer,color=\"b\")"
   ]
  },
  {
   "cell_type": "code",
   "execution_count": 27,
   "metadata": {},
   "outputs": [],
   "source": [
    "t = np.arange(1, 2002, 1)"
   ]
  },
  {
   "cell_type": "code",
   "execution_count": 72,
   "metadata": {},
   "outputs": [
    {
     "data": {
      "text/plain": [
       "<matplotlib.legend.Legend at 0x7f71848998d0>"
      ]
     },
     "execution_count": 72,
     "metadata": {},
     "output_type": "execute_result"
    },
    {
     "data": {
      "image/png": "[encoded data removed]",
      "text/plain": [
       "<Figure size 432x288 with 1 Axes>"
      ]
     },
     "metadata": {
      "needs_background": "light"
     },
     "output_type": "display_data"
    }
   ],
   "source": [
    "plt.plot(t[0:400],error_momentum[0:400],label=\"momentum\")\n",
    "plt.plot(t[0:400],error_RMS[0:400],label=\"RMS\")\n",
    "plt.legend(loc=\"upper right\")"
   ]
  },
  {
   "cell_type": "code",
   "execution_count": 28,
   "metadata": {},
   "outputs": [
    {
     "data": {
      "text/plain": [
       "<matplotlib.legend.Legend at 0x7f7186297250>"
      ]
     },
     "execution_count": 28,
     "metadata": {},
     "output_type": "execute_result"
    },
    {
     "data": {
      "image/png": "[encoded data removed]",
      "text/plain": [
       "<Figure size 432x288 with 1 Axes>"
      ]
     },
     "metadata": {
      "needs_background": "light"
     },
     "output_type": "display_data"
    }
   ],
   "source": [
    "plt.plot(t[0:400],error_momentum[0:400],label=\"momentum\")\n",
    "plt.plot(t[0:400],error_vanilla[0:400],label=\"vanilla\")\n",
    "plt.plot(t[0:400],error_vanilla_batch[0:400],label=\"vanilla_batch\")\n",
    "plt.plot(t[0:400],error_RMS[0:400],label=\"RMS\")\n",
    "plt.legend(loc=\"upper right\")"
   ]
  },
  {
   "cell_type": "code",
   "execution_count": null,
   "metadata": {},
   "outputs": [],
   "source": [
    "error_momentum[-1]"
   ]
  },
  {
   "cell_type": "code",
   "execution_count": null,
   "metadata": {},
   "outputs": [],
   "source": [
    "error_vanilla[-1]"
   ]
  },
  {
   "cell_type": "code",
   "execution_count": null,
   "metadata": {},
   "outputs": [],
   "source": [
    "error_vanilla_batch[-1]"
   ]
  },
  {
   "cell_type": "code",
   "execution_count": null,
   "metadata": {},
   "outputs": [],
   "source": [
    "error_RMS[-1]"
   ]
  }
 ],
 "metadata": {
  "kernelspec": {
   "display_name": "Python 3",
   "language": "python",
   "name": "python3"
  },
  "language_info": {
   "codemirror_mode": {
    "name": "ipython",
    "version": 3
   },
   "file_extension": ".py",
   "mimetype": "text/x-python",
   "name": "python",
   "nbconvert_exporter": "python",
   "pygments_lexer": "ipython3",
   "version": "3.7.4"
  }
 },
 "nbformat": 4,
 "nbformat_minor": 2
}
