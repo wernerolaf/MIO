{
 "cells": [
  {
   "cell_type": "code",
   "execution_count": 58,
   "metadata": {},
   "outputs": [],
   "source": [
    "import numpy as np"
   ]
  },
  {
   "cell_type": "code",
   "execution_count": 59,
   "metadata": {},
   "outputs": [],
   "source": [
    "def gaussian_formal(x,y,x_0=0,y_0=0,sigx=1,sigy=1,A=1):\n",
    "    return A*np.exp(-(((x-x_0)**2)/(2*sigx**2)+((y-y_0)**2)/(2*sigy**2)))"
   ]
  },
  {
   "cell_type": "code",
   "execution_count": 60,
   "metadata": {},
   "outputs": [],
   "source": [
    "def gaussian(d,t):\n",
    "    d=d*t\n",
    "    return np.exp(-(d**2))"
   ]
  },
  {
   "cell_type": "code",
   "execution_count": 61,
   "metadata": {},
   "outputs": [],
   "source": [
    "def mexican_hat(d,t):\n",
    "    d=d*t\n",
    "    return (2-4*d**2)*np.exp(-(d**2))"
   ]
  },
  {
   "cell_type": "code",
   "execution_count": 62,
   "metadata": {},
   "outputs": [],
   "source": [
    "def exp_res(t,lambd):\n",
    "    return np.exp(-t/lambd)"
   ]
  },
  {
   "cell_type": "code",
   "execution_count": 63,
   "metadata": {},
   "outputs": [],
   "source": [
    "class Kohen:\n",
    "    def __init__(self,M,N):\n",
    "        self.Neurons=[[0]*N for x in range(M)]\n",
    "        \n",
    "    def euclidean(x,y):\n",
    "        return np.sqrt(np.sum((x-y)**2))\n",
    "    \n",
    "    def train(self,Data,lambd,neighbour_fun,learning_res,scale_x=1,scale_y=1):\n",
    "        #initaite with random vectors\n",
    "        for x in len(self.Neurons):\n",
    "            for y in range(len(self.Neurons[0])):\n",
    "                self.Neurons[x][y]=np.random.random(Data.shape[1])*2-1\n",
    "                \n",
    "        for s in range(1,lambd):\n",
    "            for t in range(Data.shape[0]):\n",
    "                #find BMU\n",
    "                D=Data[t]\n",
    "                BMU_index=[0,0]\n",
    "                BMU_value=self.euclidean(self.Neurons[BMU_index[0]][BMU_index[1]],D)\n",
    "                for x in len(self.Neurons):\n",
    "                    for y in range(len(self.Neurons[0])):\n",
    "                        D_t=self.euclidean(self.Neurons[x][y],D)\n",
    "                        if D_t<BMU_value:\n",
    "                            BMU_value=D_t\n",
    "                            BMU_index[0]=x\n",
    "                            BMU_index[1]=y\n",
    "                #update\n",
    "                for x in len(self.Neurons):\n",
    "                    for y in range(len(self.Neurons[0])):\n",
    "                        d=np.sqrt((scale_x*(x-BMU_index))**2+(scale_y*(y-BMU_index))**2)\n",
    "                        self.Neurons[x][y]=self.Neurons[x][y]+neighbour_fun(d,s)*learning_res(s,lambd)*(D-self.Neurons[x][y])\n",
    "                \n",
    "        "
   ]
  },
  {
   "cell_type": "code",
   "execution_count": 64,
   "metadata": {},
   "outputs": [],
   "source": [
    "Map_test=Kohen(30,40)"
   ]
  },
  {
   "cell_type": "code",
   "execution_count": null,
   "metadata": {},
   "outputs": [],
   "source": []
  }
 ],
 "metadata": {
  "kernelspec": {
   "display_name": "Python 3",
   "language": "python",
   "name": "python3"
  },
  "language_info": {
   "codemirror_mode": {
    "name": "ipython",
    "version": 3
   },
   "file_extension": ".py",
   "mimetype": "text/x-python",
   "name": "python",
   "nbconvert_exporter": "python",
   "pygments_lexer": "ipython3",
   "version": "3.7.4"
  }
 },
 "nbformat": 4,
 "nbformat_minor": 2
}
