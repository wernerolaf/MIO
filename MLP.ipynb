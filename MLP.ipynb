{
 "cells": [
  {
   "cell_type": "code",
   "execution_count": 1,
   "metadata": {},
   "outputs": [],
   "source": [
    "import numpy as np\n",
    "#import pandas as pd\n",
    "import matplotlib.pyplot as plt"
   ]
  },
  {
   "cell_type": "code",
   "execution_count": 2,
   "metadata": {},
   "outputs": [],
   "source": [
    "def sigmoid_derivative(x):\n",
    "    return(sigmoid(x)*(1-sigmoid(x)))"
   ]
  },
  {
   "cell_type": "code",
   "execution_count": 3,
   "metadata": {},
   "outputs": [],
   "source": [
    "def sigmoid(x):\n",
    "    return(1/(1 + np.exp(-x)))"
   ]
  },
  {
   "cell_type": "code",
   "execution_count": 33,
   "metadata": {},
   "outputs": [],
   "source": [
    "class MLP:\n",
    "    def __init__(self, input_layer_len, output_layer_len, hidden_layers_len, activation_function):\n",
    "        \n",
    "        self.activation_function = activation_function\n",
    "        self.input_layer = np.zeros((1,input_layer_len))\n",
    "        self.output_layer = np.zeros((1,output_layer_len))\n",
    "        self.weights=[]\n",
    "        \n",
    "        self.weights.append(np.random.random((hidden_layers_len[0],input_layer_len))*2-1)\n",
    "        \n",
    "        for i in range(1,len(hidden_layers_len)):\n",
    "            self.weights.append(np.random.random((hidden_layers_len[i],hidden_layers_len[i-1]))*2-1)\n",
    "            \n",
    "        self.weights.append(np.random.random((output_layer_len,hidden_layers_len[-1]))*2-1)\n",
    "        \n",
    "        self.biases=[]\n",
    "        \n",
    "        for i in range(len(hidden_layers_len)):\n",
    "            self.biases.append(np.zeros((hidden_layers_len[i],1)))\n",
    "            \n",
    "        \n",
    "        self.biases.append(np.zeros((output_layer_len,1)))\n",
    "        \n",
    "        self.hidden_layers=[]\n",
    "        \n",
    "        for i in range(len(hidden_layers_len)):\n",
    "            self.hidden_layers.append(np.zeros((hidden_layers_len[i],1)))\n",
    "        \n",
    "    \n",
    "        \n",
    "    def calculate(self,input_layer,memory=False):\n",
    "        self.input_layer=input_layer.copy()\n",
    "        \n",
    "        input_layer=input_layer.T\n",
    "        \n",
    "        if(memory):\n",
    "            for i in range(len(self.weights)-1):\n",
    "                \n",
    "                self.hidden_layers[i]=self.weights[i].dot(input_layer)+self.biases[i]\n",
    "                input_layer=self.activation_function(self.hidden_layers[i])\n",
    "                \n",
    "        else:    \n",
    "            for i in range(len(self.weights)-1):\n",
    "                input_layer=self.activation_function(self.weights[i].dot(input_layer)+self.biases[i])\n",
    "                \n",
    "        \n",
    "        #mozliwe ze trzeba reshapy\n",
    "        output_layer=(self.weights[-1].dot(input_layer)+self.biases[-1])\n",
    "        #print(output_layer.shape)\n",
    "        self.output_layer=output_layer.T.copy()\n",
    "        \n",
    "        \n",
    "        return(output_layer.T)\n",
    "        \n",
    "    def train(self,input_layer,true_output_layer,rate=0.1):\n",
    "        \n",
    "        #feedforward\n",
    "        output_layer=self.calculate(input_layer,memory=True)\n",
    "        error=sum((true_output_layer-output_layer)**2)/true_output_layer.shape[0]\n",
    "        print(error)\n",
    "        #output error identity function\n",
    "        errors=[0 for i in range(len(self.weights)-1,-1,-1)]\n",
    "        errors[-1]=(true_output_layer-output_layer)*output_layer\n",
    "        for i in range(len(self.weights)-2,-1,-1):\n",
    "            #derivative of sigmoid\n",
    "            errors[i]=weights[i].dot(error.T)*sigmoid(hidden_layers[i])*(1-sigmoid(hidden_layers[i]))\n",
    "        \n",
    "        #gradient descent\n",
    "        for i in range(len(self.weights)-1,-1,-1):\n",
    "            self.weights[i]=self.weights[i]-rate\n",
    "        "
   ]
  },
  {
   "cell_type": "code",
   "execution_count": 1,
   "metadata": {},
   "outputs": [],
   "source": [
    "def Xavier(a,b):\n",
    "    pass"
   ]
  },
  {
   "cell_type": "code",
   "execution_count": 7,
   "metadata": {},
   "outputs": [],
   "source": [
    "def linear(X, W):\n",
    "    return np.c_[np.ones(X.shape[0]), X] @ W"
   ]
  },
  {
   "cell_type": "code",
   "execution_count": 116,
   "metadata": {},
   "outputs": [],
   "source": [
    "class MLP:\n",
    "    def __init__(self, inout, af, daf):\n",
    "        \n",
    "        self.af = af\n",
    "        self.daf = daf\n",
    "        \n",
    "        self.W = [np.random.randn(inout[i]+1, inout[i+1]) for i in range(len(inout)-1)]\n",
    "        \n",
    "    def forward(self, X):\n",
    "        z=[]\n",
    "        \n",
    "        for w in self.W:\n",
    "            z+=[X]\n",
    "            X = self.af(linear(X, w))\n",
    "        \n",
    "        return X,z\n",
    "    \n",
    "    def train(self,X,Y,rate=0.1):\n",
    "        \n",
    "        #feedforward\n",
    "        z=self.forward(X)\n",
    "        \n",
    "        #output error identity function\n",
    "        errors=[[0]*X.shape[0] for i in range(len(self.W)-1,-1,-1)]\n",
    "        errors[-1]=(Y-z[0])*daf(linear(z[-1],self.W[-1]))\n",
    "        for i in range(len(self.W)-2,-1,-1):\n",
    "            self.W[i+1].T+\n",
    "            \n",
    "        \n",
    "        #gradient descent\n",
    "        for i in range(len(self.weights)-1,-1,-1):\n",
    "            self.weights[i]=self.weights[i]-rate\n",
    "        "
   ]
  },
  {
   "cell_type": "code",
   "execution_count": 278,
   "metadata": {},
   "outputs": [],
   "source": [
    "test = np.loadtxt(\"mio1/regression/square-simple-training.csv\", delimiter=',', skiprows=1, usecols=range(1,3))"
   ]
  },
  {
   "cell_type": "code",
   "execution_count": 279,
   "metadata": {},
   "outputs": [],
   "source": [
    "X=test[:,0].reshape(-1,1)"
   ]
  },
  {
   "cell_type": "code",
   "execution_count": 280,
   "metadata": {},
   "outputs": [],
   "source": [
    "Y=test[:,1].reshape(-1,1)"
   ]
  },
  {
   "cell_type": "code",
   "execution_count": 58,
   "metadata": {},
   "outputs": [],
   "source": [
    "X=np.concatenate((X,3*X-2),axis=1)"
   ]
  },
  {
   "cell_type": "code",
   "execution_count": 59,
   "metadata": {},
   "outputs": [],
   "source": [
    "Y=np.concatenate((Y,2*Y+1),axis=1)"
   ]
  },
  {
   "cell_type": "code",
   "execution_count": 281,
   "metadata": {},
   "outputs": [],
   "source": [
    "mlp=MLP(1,1,[15,17,19],sigmoid)\n",
    "\n",
    "train_input_layer=(X-X.mean())/X.std()\n",
    "\n",
    "true_output_layer=(Y-Y.mean())/Y.std()\n",
    "\n",
    "rate=0.05\n",
    "\n",
    "beta=0.8\n",
    "\n",
    "batch=0.2\n",
    "\n",
    "stop=10**-6"
   ]
  },
  {
   "cell_type": "code",
   "execution_count": 107,
   "metadata": {},
   "outputs": [],
   "source": [
    "xd=mlp.forward(X)"
   ]
  },
  {
   "cell_type": "code",
   "execution_count": 265,
   "metadata": {},
   "outputs": [],
   "source": [
    "lin=np.linspace(0,input_layer.shape[0],int(input_layer.shape[0]*batch)).round().astype(int)"
   ]
  },
  {
   "cell_type": "code",
   "execution_count": 274,
   "metadata": {},
   "outputs": [],
   "source": [
    "lin=np.linspace(0,train_input_layer.shape[0],int(train_input_layer.shape[0]*batch)).round().astype(int)"
   ]
  },
  {
   "cell_type": "code",
   "execution_count": 275,
   "metadata": {},
   "outputs": [
    {
     "data": {
      "text/plain": [
       "array([  0,  11,  22,  33,  44,  56,  67,  78,  89, 100])"
      ]
     },
     "execution_count": 275,
     "metadata": {},
     "output_type": "execute_result"
    }
   ],
   "source": [
    "lin"
   ]
  },
  {
   "cell_type": "code",
   "execution_count": 284,
   "metadata": {},
   "outputs": [
    {
     "name": "stdout",
     "output_type": "stream",
     "text": [
      "1000\n",
      "2000\n",
      "3000\n",
      "4000\n",
      "5000\n",
      "6000\n",
      "7000\n",
      "8000\n",
      "9000\n",
      "10000\n"
     ]
    }
   ],
   "source": [
    "lin=np.linspace(0,train_input_layer.shape[0],int(train_input_layer.shape[0]*batch)).round().astype(int)\n",
    "output_layer=mlp.calculate(train_input_layer)\n",
    "error=sum((true_output_layer-output_layer)**2)\n",
    "iteration=0\n",
    "for xd in range(10**4):\n",
    "    iteration+=1\n",
    "    \n",
    "    for b in range(len(lin)-1):\n",
    "        \n",
    "        input_layer=train_input_layer[lin[b]:lin[b+1]]\n",
    "        output_layer=mlp.calculate(input_layer,memory=True)\n",
    "        batch_size=output_layer.shape[0]\n",
    "        errors=[[0]*len(mlp.weights) for x in range(batch_size)]\n",
    "        old_gradient=[0 for x in range(len(mlp.weights))]\n",
    "        old_gradient_bias=[0 for x in range(len(mlp.weights))]\n",
    "\n",
    "        for x in range(batch_size):\n",
    "            #derivative of x is 1\n",
    "            errors[x][-1]=((output_layer[x]-true_output_layer[lin[b]:lin[b+1]][x])).reshape(-1,1)\n",
    "\n",
    "            for i in range(len(mlp.weights)-2,-1,-1): \n",
    "                errors[x][i]=mlp.weights[i+1].T.dot(errors[x][i+1])*sigmoid_derivative(mlp.hidden_layers[i][:,x:x+1])\n",
    "\n",
    "        for l in range(1,len(mlp.weights)):\n",
    "\n",
    "            new_gradient=sum([errors[x][l].dot(mlp.activation_function(mlp.hidden_layers[l-1][:,x:x+1]).T) for x in range(batch_size)])/batch_size\n",
    "            new_gradient=beta*old_gradient[l]+(1-beta)*new_gradient\n",
    "            old_gradient[l]=new_gradient\n",
    "            mlp.weights[l]=mlp.weights[l]-new_gradient*rate\n",
    "\n",
    "            new_gradient_bias=sum([errors[x][l] for x in range(batch_size)])/batch_size\n",
    "            new_gradient_bias=beta*old_gradient_bias[l]+(1-beta)*new_gradient_bias\n",
    "            old_gradient_bias[l]=new_gradient_bias\n",
    "            mlp.biases[l]=mlp.biases[l]-new_gradient_bias*rate\n",
    "\n",
    "\n",
    "        new_gradient=sum([errors[x][0].dot((mlp.input_layer.T[:,x:x+1]).T) for x in range(batch_size)])/batch_size\n",
    "        new_gradient=beta*old_gradient[0]+(1-beta)*new_gradient\n",
    "        old_gradient[0]=new_gradient\n",
    "        mlp.weights[0]=mlp.weights[0]-new_gradient*rate\n",
    "\n",
    "        new_gradient_bias=sum([errors[x][0] for x in range(batch_size)])/batch_size\n",
    "        new_gradient_bias=beta*old_gradient_bias[0]+(1-beta)*new_gradient_bias\n",
    "        old_gradient_bias[0]=new_gradient_bias\n",
    "        mlp.biases[0]=mlp.biases[0]-new_gradient_bias*rate\n",
    "        \n",
    "        \n",
    "    output_layer=mlp.calculate(train_input_layer)\n",
    "    new_error=sum((true_output_layer-output_layer)**2)\n",
    "    \n",
    "    if(iteration % 1000 == 0):\n",
    "        print(iteration)\n",
    "    \n",
    "    if (abs(new_error-error)/error)<stop:\n",
    "        print((new_error-error)/error)\n",
    "        print(iteration)\n",
    "        break\n",
    "    \n",
    "    error=new_error\n"
   ]
  },
  {
   "cell_type": "code",
   "execution_count": 286,
   "metadata": {},
   "outputs": [
    {
     "name": "stdout",
     "output_type": "stream",
     "text": [
      "[0.01693631]\n"
     ]
    }
   ],
   "source": [
    "print(error)"
   ]
  },
  {
   "cell_type": "code",
   "execution_count": 285,
   "metadata": {},
   "outputs": [
    {
     "data": {
      "text/plain": [
       "<matplotlib.collections.PathCollection at 0x7faaad6c3510>"
      ]
     },
     "execution_count": 285,
     "metadata": {},
     "output_type": "execute_result"
    },
    {
     "data": {
      "image/png": "[encoded data removed]",
      "text/plain": [
       "<Figure size 432x288 with 1 Axes>"
      ]
     },
     "metadata": {
      "needs_background": "light"
     },
     "output_type": "display_data"
    }
   ],
   "source": [
    "fig=plt.figure()\n",
    "ax=fig.add_axes([0,0,1,1])\n",
    "ax.scatter(train_input_layer, true_output_layer, color='r')\n",
    "ax.scatter(train_input_layer,output_layer,color=\"b\")"
   ]
  },
  {
   "cell_type": "code",
   "execution_count": 83,
   "metadata": {},
   "outputs": [
    {
     "data": {
      "text/plain": [
       "[(5, 100), (7, 100), (9, 100)]"
      ]
     },
     "execution_count": 83,
     "metadata": {},
     "output_type": "execute_result"
    }
   ],
   "source": [
    "[mlp.hidden_layers[x].shape for x in range(3)]"
   ]
  },
  {
   "cell_type": "code",
   "execution_count": 82,
   "metadata": {},
   "outputs": [
    {
     "data": {
      "text/plain": [
       "[(5, 1), (7, 1), (9, 1), (2, 1)]"
      ]
     },
     "execution_count": 82,
     "metadata": {},
     "output_type": "execute_result"
    }
   ],
   "source": [
    "[errors[0][x].shape for x in range(len(errors[0]))]"
   ]
  },
  {
   "cell_type": "code",
   "execution_count": 71,
   "metadata": {},
   "outputs": [
    {
     "data": {
      "text/plain": [
       "[(5, 2), (7, 5), (9, 7), (2, 9)]"
      ]
     },
     "execution_count": 71,
     "metadata": {},
     "output_type": "execute_result"
    }
   ],
   "source": [
    "[mlp.weights[x].shape for x in range(len(mlp.weights))]"
   ]
  },
  {
   "cell_type": "code",
   "execution_count": 86,
   "metadata": {},
   "outputs": [
    {
     "data": {
      "text/plain": [
       "[(5, 1), (7, 1), (9, 1), (2, 1)]"
      ]
     },
     "execution_count": 86,
     "metadata": {},
     "output_type": "execute_result"
    }
   ],
   "source": [
    "[mlp.biases[x].shape for x in range(len(mlp.weights))]"
   ]
  },
  {
   "cell_type": "code",
   "execution_count": 54,
   "metadata": {},
   "outputs": [
    {
     "data": {
      "text/plain": [
       "(100, 1)"
      ]
     },
     "execution_count": 54,
     "metadata": {},
     "output_type": "execute_result"
    }
   ],
   "source": [
    "mlp.output_layer.shape"
   ]
  },
  {
   "cell_type": "code",
   "execution_count": 401,
   "metadata": {},
   "outputs": [
    {
     "data": {
      "text/plain": [
       "array([[0.02163984]])"
      ]
     },
     "execution_count": 401,
     "metadata": {},
     "output_type": "execute_result"
    }
   ],
   "source": [
    "((output_layer[0]-true_output_layer[0])*output_layer[0]).reshape(-1,1)"
   ]
  },
  {
   "cell_type": "code",
   "execution_count": 370,
   "metadata": {},
   "outputs": [
    {
     "data": {
      "text/plain": [
       "4"
      ]
     },
     "execution_count": 370,
     "metadata": {},
     "output_type": "execute_result"
    }
   ],
   "source": [
    "len(errors[0])"
   ]
  },
  {
   "cell_type": "code",
   "execution_count": 371,
   "metadata": {},
   "outputs": [
    {
     "data": {
      "text/plain": [
       "100"
      ]
     },
     "execution_count": 371,
     "metadata": {},
     "output_type": "execute_result"
    }
   ],
   "source": [
    "len(errors)"
   ]
  },
  {
   "cell_type": "code",
   "execution_count": 199,
   "metadata": {},
   "outputs": [
    {
     "data": {
      "text/plain": [
       "(4, 3)"
      ]
     },
     "execution_count": 199,
     "metadata": {},
     "output_type": "execute_result"
    }
   ],
   "source": [
    "mlp.weights[1].shape"
   ]
  },
  {
   "cell_type": "code",
   "execution_count": 73,
   "metadata": {},
   "outputs": [
    {
     "data": {
      "text/plain": [
       "array([-0.03199908,  0.00470084, -0.25536774,  0.35579902,  0.00207604,\n",
       "        0.34537689,  0.29979171,  0.13802362,  0.35411896,  0.12422137,\n",
       "       -0.06211776, -0.05342072, -0.01964256,  0.2325045 , -0.25438486,\n",
       "        0.20906782,  0.16237478, -0.16799066, -0.1093466 ,  0.0560442 ,\n",
       "        0.16128476,  0.36185598,  0.21608555,  0.09004325,  0.27493971,\n",
       "       -0.15610197, -0.10268811,  0.2608824 ,  0.17277385, -0.12275886,\n",
       "       -0.25173919, -0.18808972, -0.138532  ,  0.03318402, -0.15092045,\n",
       "        0.18984732, -0.27465792, -0.03465583,  0.05604079, -0.27878033,\n",
       "        0.09991191, -0.17671256, -0.04540331,  0.14171443,  0.22671384,\n",
       "        0.08818804, -0.12722544, -0.22105923, -0.22391131, -0.08053474,\n",
       "        0.15594371, -0.27964974, -0.14363456,  0.3293536 ,  0.32452923,\n",
       "        0.19946977, -0.06234968,  0.05646883,  0.20592045,  0.12443097,\n",
       "        0.12905735, -0.1380278 , -0.13841325, -0.02587128,  0.33550476,\n",
       "        0.3486618 ,  0.203231  ,  0.19891587,  0.06998212, -0.27832174,\n",
       "        0.11775737,  0.26652529,  0.21084833,  0.01577367,  0.07000086,\n",
       "        0.07103678, -0.27890419, -0.04759853,  0.11984374,  0.26139402,\n",
       "       -0.04690906, -0.01171025,  0.09460523,  0.10518346,  0.19004414,\n",
       "       -0.02193571,  0.32032414,  0.34863718, -0.12734287,  0.19320428,\n",
       "        0.31015919,  0.11419045,  0.13249277,  0.33219476,  0.27545746,\n",
       "        0.09874775,  0.25647248, -0.20556111,  0.21932611,  0.12733904])"
      ]
     },
     "execution_count": 73,
     "metadata": {},
     "output_type": "execute_result"
    }
   ],
   "source": [
    "#warstwa neuron pattern\n",
    "mlp.hidden_layers[0][0]"
   ]
  },
  {
   "cell_type": "code",
   "execution_count": 324,
   "metadata": {},
   "outputs": [
    {
     "name": "stdout",
     "output_type": "stream",
     "text": [
      "[[6.68602948e-01]\n",
      " [6.10105933e-01]\n",
      " [3.47440350e-04]\n",
      " ...\n",
      " [6.10151439e-01]\n",
      " [6.10194959e-01]\n",
      " [6.10171751e-01]]\n"
     ]
    }
   ],
   "source": [
    "mlp.train(X,Y)"
   ]
  },
  {
   "cell_type": "code",
   "execution_count": null,
   "metadata": {},
   "outputs": [],
   "source": [
    "pd.read_csv"
   ]
  },
  {
   "cell_type": "code",
   "execution_count": 107,
   "metadata": {},
   "outputs": [],
   "source": [
    "#test=pd.read_csv(\"mio1/regression/steps-large-training.csv\",delimiter=\",\")"
   ]
  },
  {
   "cell_type": "code",
   "execution_count": 38,
   "metadata": {},
   "outputs": [],
   "source": [
    "test = np.loadtxt(\"mio1/regression/square-simple-training.csv\", delimiter=',', skiprows=1, usecols=range(1,3))"
   ]
  },
  {
   "cell_type": "code",
   "execution_count": 40,
   "metadata": {},
   "outputs": [
    {
     "data": {
      "text/plain": [
       "array([[-1.71542658e-01, -1.27351580e+02],\n",
       "       [ 2.52005474e-02, -1.29942844e+02],\n",
       "       [-1.36899138e+00,  3.86723671e+01],\n",
       "       [ 1.90738970e+00,  1.97432191e+02],\n",
       "       [ 1.11293711e-02, -1.29988852e+02],\n",
       "       [ 1.85151809e+00,  1.78530731e+02],\n",
       "       [ 1.60714217e+00,  1.02461536e+02],\n",
       "       [ 7.39925693e-01, -8.07258972e+01],\n",
       "       [ 1.89838314e+00,  1.94347268e+02],\n",
       "       [ 6.65933726e-01, -9.00879046e+01],\n",
       "       [-3.33004761e-01, -1.20019705e+02],\n",
       "       [-2.86381131e-01, -1.22618726e+02],\n",
       "       [-1.05301060e-01, -1.29002052e+02],\n",
       "       [ 1.24642471e+00,  9.82171130e+00],\n",
       "       [-1.36372228e+00,  3.73764614e+01],\n",
       "       [ 1.12078385e+00, -1.69459202e+01],\n",
       "       [ 8.70468906e-01, -6.18055496e+01],\n",
       "       [-9.00574844e-01, -5.70068456e+01],\n",
       "       [-5.86192127e-01, -9.90740912e+01],\n",
       "       [ 3.00445271e-01, -1.21875938e+02],\n",
       "       [ 8.64625461e-01, -6.27180531e+01],\n",
       "       [ 1.93986019e+00,  2.08675181e+02],\n",
       "       [ 1.15840494e+00, -9.22882029e+00],\n",
       "       [ 4.82709484e-01, -1.09029240e+02],\n",
       "       [ 1.47391401e+00,  6.55180271e+01],\n",
       "       [-8.36841226e-01, -6.69727086e+01],\n",
       "       [-5.50496849e-01, -1.02725790e+02],\n",
       "       [ 1.39855470e+00,  4.60359720e+01],\n",
       "       [ 9.26216871e-01, -5.27910076e+01],\n",
       "       [-6.58093411e-01, -9.10221756e+01],\n",
       "       [-1.34953921e+00,  3.39130481e+01],\n",
       "       [-1.00832317e+00, -3.84955945e+01],\n",
       "       [-7.42651047e-01, -8.03622480e+01],\n",
       "       [ 1.77894975e-01, -1.27151804e+02],\n",
       "       [-8.09063802e-01, -7.10874188e+01],\n",
       "       [ 1.01774543e+00, -3.67774812e+01],\n",
       "       [-1.47240341e+00,  6.51174633e+01],\n",
       "       [-1.85785124e-01, -1.26893550e+02],\n",
       "       [ 3.00426979e-01, -1.21876927e+02],\n",
       "       [-1.49450306e+00,  7.10185457e+01],\n",
       "       [ 5.35614009e-01, -1.04180587e+02],\n",
       "       [-9.47331771e-01, -4.92306263e+01],\n",
       "       [-2.43400929e-01, -1.24668039e+02],\n",
       "       [ 7.59711574e-01, -7.80554491e+01],\n",
       "       [ 1.21538177e+00,  2.94375605e+00],\n",
       "       [ 4.72763945e-01, -1.09884483e+02],\n",
       "       [-6.82038105e-01, -8.81341621e+01],\n",
       "       [-1.18506819e+00, -3.60520406e+00],\n",
       "       [-1.20035777e+00, -3.22709564e-01],\n",
       "       [-4.31735707e-01, -1.13224385e+02],\n",
       "       [ 8.35992801e-01, -6.71004432e+01],\n",
       "       [-1.49916386e+00,  7.22743057e+01],\n",
       "       [-7.70005151e-01, -7.66382861e+01],\n",
       "       [ 1.76561945e+00,  1.50567082e+02],\n",
       "       [ 1.73975662e+00,  1.42407779e+02],\n",
       "       [ 1.06933005e+00, -2.70879913e+01],\n",
       "       [-3.34248058e-01, -1.19945041e+02],\n",
       "       [ 3.02721654e-01, -1.21752364e+02],\n",
       "       [ 1.10391126e+00, -2.03241933e+01],\n",
       "       [ 6.67057340e-01, -8.99531054e+01],\n",
       "       [ 6.91858706e-01, -8.69198378e+01],\n",
       "       [-7.39948056e-01, -8.07229187e+01],\n",
       "       [-7.42014412e-01, -8.04473152e+01],\n",
       "       [-1.38692400e-01, -1.28268798e+02],\n",
       "       [ 1.79859492e+00,  1.61144932e+02],\n",
       "       [ 1.86912805e+00,  1.84427569e+02],\n",
       "       [ 1.08949348e+00, -2.31703567e+01],\n",
       "       [ 1.06636067e+00, -2.76587429e+01],\n",
       "       [ 3.75164515e-01, -1.17332643e+02],\n",
       "       [-1.49204462e+00,  7.03577430e+01],\n",
       "       [ 6.31281084e-01, -9.41335774e+01],\n",
       "       [ 1.42880546e+00,  5.37336533e+01],\n",
       "       [ 1.13032897e+00, -1.50120779e+01],\n",
       "       [ 8.45605040e-02, -1.29356457e+02],\n",
       "       [ 3.75264978e-01, -1.17325858e+02],\n",
       "       [ 3.80818434e-01, -1.16947959e+02],\n",
       "       [-1.49516705e+00,  7.11972050e+01],\n",
       "       [-2.55169162e-01, -1.24139983e+02],\n",
       "       [ 6.42465816e-01, -9.28513908e+01],\n",
       "       [ 1.40129746e+00,  4.67271107e+01],\n",
       "       [-2.51473002e-01, -1.24308520e+02],\n",
       "       [-6.27770596e-02, -1.29645314e+02],\n",
       "       [ 5.07165646e-01, -1.06850471e+02],\n",
       "       [ 5.63874062e-01, -1.01384144e+02],\n",
       "       [ 1.01880052e+00, -3.65840944e+01],\n",
       "       [-1.17594342e-01, -1.28755441e+02],\n",
       "       [ 1.71721375e+00,  1.35394076e+02],\n",
       "       [ 1.86899603e+00,  1.84383154e+02],\n",
       "       [-6.82667661e-01, -8.80568379e+01],\n",
       "       [ 1.03574160e+00, -3.34515404e+01],\n",
       "       [ 1.66272084e+00,  1.18817653e+02],\n",
       "       [ 6.12159297e-01, -9.62734896e+01],\n",
       "       [ 7.10275546e-01, -8.45957784e+01],\n",
       "       [ 1.78085047e+00,  1.55428557e+02],\n",
       "       [ 1.47668963e+00,  6.62551030e+01],\n",
       "       [ 5.29373147e-01, -1.04778766e+02],\n",
       "       [ 1.37491373e+00,  4.01348998e+01],\n",
       "       [-1.10198487e+00, -2.07066415e+01],\n",
       "       [ 1.17577716e+00, -5.57932729e+00],\n",
       "       [ 6.82647100e-01, -8.80593643e+01]])"
      ]
     },
     "execution_count": 40,
     "metadata": {},
     "output_type": "execute_result"
    }
   ],
   "source": [
    "test"
   ]
  },
  {
   "cell_type": "code",
   "execution_count": 109,
   "metadata": {},
   "outputs": [],
   "source": [
    "test=test[[\"x\",\"y\"]]"
   ]
  },
  {
   "cell_type": "code",
   "execution_count": 114,
   "metadata": {},
   "outputs": [
    {
     "data": {
      "text/plain": [
       "<matplotlib.axes._subplots.AxesSubplot at 0x7fbccb582e50>"
      ]
     },
     "execution_count": 114,
     "metadata": {},
     "output_type": "execute_result"
    },
    {
     "data": {
      "image/png": "[encoded data removed]",
      "text/plain": [
       "<Figure size 432x288 with 1 Axes>"
      ]
     },
     "metadata": {
      "needs_background": "light"
     },
     "output_type": "display_data"
    }
   ],
   "source": [
    "test.plot.scatter(x=\"x\",y=\"y\")"
   ]
  },
  {
   "cell_type": "code",
   "execution_count": 263,
   "metadata": {},
   "outputs": [],
   "source": [
    "test_mlp=MPL(1,1,[5],sigmoid)"
   ]
  },
  {
   "cell_type": "code",
   "execution_count": 264,
   "metadata": {},
   "outputs": [
    {
     "data": {
      "text/plain": [
       "array([[0.92611473],\n",
       "       [3.68774105],\n",
       "       [2.40454252],\n",
       "       ...,\n",
       "       [3.46152408],\n",
       "       [3.2786449 ],\n",
       "       [3.37272737]])"
      ]
     },
     "execution_count": 264,
     "metadata": {},
     "output_type": "execute_result"
    }
   ],
   "source": [
    "test_mlp.calculate(X)"
   ]
  },
  {
   "cell_type": "code",
   "execution_count": 127,
   "metadata": {},
   "outputs": [],
   "source": [
    "X=np.vstack(test[\"x\"].to_numpy())"
   ]
  },
  {
   "cell_type": "code",
   "execution_count": 177,
   "metadata": {},
   "outputs": [],
   "source": [
    "Y_hat=test_mpl.output_layer"
   ]
  },
  {
   "cell_type": "code",
   "execution_count": 178,
   "metadata": {},
   "outputs": [],
   "source": [
    "Y=np.vstack(test[\"y\"].to_numpy())"
   ]
  },
  {
   "cell_type": "code",
   "execution_count": 179,
   "metadata": {},
   "outputs": [
    {
     "data": {
      "text/plain": [
       "array([70884723.61747867])"
      ]
     },
     "execution_count": 179,
     "metadata": {},
     "output_type": "execute_result"
    }
   ],
   "source": [
    "sum((Y-Y_hat)**2)"
   ]
  },
  {
   "cell_type": "code",
   "execution_count": 193,
   "metadata": {},
   "outputs": [
    {
     "data": {
      "text/plain": [
       "array([[0.79744999, 0.46417824, 0.5293035 , 0.29351545, 0.87100363]])"
      ]
     },
     "execution_count": 193,
     "metadata": {},
     "output_type": "execute_result"
    }
   ],
   "source": [
    "np.random.random((1,5))"
   ]
  },
  {
   "cell_type": "code",
   "execution_count": 246,
   "metadata": {},
   "outputs": [
    {
     "data": {
      "text/plain": [
       "-80"
      ]
     },
     "execution_count": 246,
     "metadata": {},
     "output_type": "execute_result"
    }
   ],
   "source": [
    "Y.min()"
   ]
  },
  {
   "cell_type": "code",
   "execution_count": 450,
   "metadata": {},
   "outputs": [],
   "source": [
    "test_mlp=MLP(1,1,[4],sigmoid)"
   ]
  },
  {
   "cell_type": "code",
   "execution_count": 437,
   "metadata": {},
   "outputs": [],
   "source": [
    "test_mlp.weights[0]=np.ones(test_mlp.weights[0].shape)"
   ]
  },
  {
   "cell_type": "code",
   "execution_count": 449,
   "metadata": {},
   "outputs": [
    {
     "data": {
      "text/plain": [
       "(100, 1)"
      ]
     },
     "execution_count": 449,
     "metadata": {},
     "output_type": "execute_result"
    }
   ],
   "source": [
    "X.shape"
   ]
  },
  {
   "cell_type": "code",
   "execution_count": 461,
   "metadata": {},
   "outputs": [],
   "source": [
    "test_mlp=MLP(1,1,[7],sigmoid)\n",
    "\n",
    "test_mlp.weights[0]=np.ones(test_mlp.weights[0].shape)\n",
    "test_mlp.weights[1]=np.ones(test_mlp.weights[1].shape)\n",
    "\n",
    "\n",
    "test_mlp.calculate(X)\n",
    "Y_hat=test_mlp.output_layer"
   ]
  },
  {
   "cell_type": "code",
   "execution_count": 462,
   "metadata": {},
   "outputs": [
    {
     "data": {
      "text/plain": [
       "<matplotlib.collections.PathCollection at 0x7f965c157c10>"
      ]
     },
     "execution_count": 462,
     "metadata": {},
     "output_type": "execute_result"
    },
    {
     "data": {
      "image/png": "[encoded data removed]",
      "text/plain": [
       "<Figure size 432x288 with 1 Axes>"
      ]
     },
     "metadata": {
      "needs_background": "light"
     },
     "output_type": "display_data"
    }
   ],
   "source": [
    "fig=plt.figure()\n",
    "ax=fig.add_axes([0,0,1,1])\n",
    "ax.scatter(X, Y/1000, color='r')\n",
    "ax.scatter(X,Y_hat,color=\"b\")"
   ]
  },
  {
   "cell_type": "code",
   "execution_count": 441,
   "metadata": {},
   "outputs": [
    {
     "data": {
      "text/plain": [
       "array([[0.61455317],\n",
       "       [0.62361713],\n",
       "       [0.56344802],\n",
       "       [0.69348409],\n",
       "       [0.62297084],\n",
       "       [0.69207034],\n",
       "       [0.68538074],\n",
       "       [0.65494235],\n",
       "       [0.69325905],\n",
       "       [0.65190051],\n",
       "       [0.60711992],\n",
       "       [0.60926169],\n",
       "       [0.61760904],\n",
       "       [0.67396656],\n",
       "       [0.56364096],\n",
       "       [0.66956171],\n",
       "       [0.66015699],\n",
       "       [0.58194688],\n",
       "       [0.59563138],\n",
       "       [0.63610668],\n",
       "       [0.65992791],\n",
       "       [0.69428635],\n",
       "       [0.67090344],\n",
       "       [0.64412731],\n",
       "       [0.68137991],\n",
       "       [0.58465246],\n",
       "       [0.5972317 ],\n",
       "       [0.67900524],\n",
       "       [0.66232126],\n",
       "       [0.59243281],\n",
       "       [0.56416212],\n",
       "       [0.57746614],\n",
       "       [0.5887193 ],\n",
       "       [0.63058906],\n",
       "       [0.58584363],\n",
       "       [0.66578922],\n",
       "       [0.55973707],\n",
       "       [0.61389619],\n",
       "       [0.63610586],\n",
       "       [0.55896291],\n",
       "       [0.64640463],\n",
       "       [0.57998757],\n",
       "       [0.61124012],\n",
       "       [0.65574548],\n",
       "       [0.6728985 ],\n",
       "       [0.64369644],\n",
       "       [0.59137567],\n",
       "       [0.57039652],\n",
       "       [0.56980248],\n",
       "       [0.60260609],\n",
       "       [0.65879943],\n",
       "       [0.55880049],\n",
       "       [0.58753027],\n",
       "       [0.68981359],\n",
       "       [0.68911415],\n",
       "       [0.66769558],\n",
       "       [0.60706288],\n",
       "       [0.63620833],\n",
       "       [0.6689537 ],\n",
       "       [0.65194715],\n",
       "       [0.65297308],\n",
       "       [0.58883714],\n",
       "       [0.58874705],\n",
       "       [0.61606869],\n",
       "       [0.69069194],\n",
       "       [0.69252051],\n",
       "       [0.66843111],\n",
       "       [0.6675868 ],\n",
       "       [0.63942495],\n",
       "       [0.5590487 ],\n",
       "       [0.65045578],\n",
       "       [0.67996817],\n",
       "       [0.66990395],\n",
       "       [0.62633745],\n",
       "       [0.63942939],\n",
       "       [0.63967443],\n",
       "       [0.55893975],\n",
       "       [0.6106981 ],\n",
       "       [0.65092346],\n",
       "       [0.67909309],\n",
       "       [0.61086831],\n",
       "       [0.61956957],\n",
       "       [0.64518316],\n",
       "       [0.64761058],\n",
       "       [0.66582856],\n",
       "       [0.617042  ],\n",
       "       [0.6884969 ],\n",
       "       [0.69251715],\n",
       "       [0.59134793],\n",
       "       [0.66645829],\n",
       "       [0.68697548],\n",
       "       [0.64965327],\n",
       "       [0.65373062],\n",
       "       [0.69022116],\n",
       "       [0.68146583],\n",
       "       [0.6461373 ],\n",
       "       [0.67824368],\n",
       "       [0.57367423],\n",
       "       [0.67151648],\n",
       "       [0.65259281]])"
      ]
     },
     "execution_count": 441,
     "metadata": {},
     "output_type": "execute_result"
    }
   ],
   "source": [
    "Y_hat"
   ]
  },
  {
   "cell_type": "code",
   "execution_count": null,
   "metadata": {},
   "outputs": [],
   "source": []
  }
 ],
 "metadata": {
  "kernelspec": {
   "display_name": "Python 3",
   "language": "python",
   "name": "python3"
  },
  "language_info": {
   "codemirror_mode": {
    "name": "ipython",
    "version": 3
   },
   "file_extension": ".py",
   "mimetype": "text/x-python",
   "name": "python",
   "nbconvert_exporter": "python",
   "pygments_lexer": "ipython3",
   "version": "3.7.4"
  }
 },
 "nbformat": 4,
 "nbformat_minor": 2
}
